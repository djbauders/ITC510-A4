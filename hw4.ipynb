{
 "cells": [
  {
   "cell_type": "code",
   "execution_count": 1,
   "id": "a07666f1",
   "metadata": {},
   "outputs": [],
   "source": [
    "import pandas as pd\n",
    "import numpy as np"
   ]
  },
  {
   "cell_type": "code",
   "execution_count": 2,
   "id": "ad02c177",
   "metadata": {},
   "outputs": [
    {
     "name": "stdout",
     "output_type": "stream",
     "text": [
      "        DEP_DEL15                 DEPARTING_AIRPORT\n",
      "0               1            McCarran International\n",
      "1               0      Newark Liberty International\n",
      "2               0               Logan International\n",
      "3               1                         LaGuardia\n",
      "4               0  Phoenix Sky Harbor International\n",
      "...           ...                               ...\n",
      "196222          0            San Jose International\n",
      "196223          0  Austin - Bergstrom International\n",
      "196224          0          Houston Intercontinental\n",
      "196225          1      Chicago O'Hare International\n",
      "196226          0        Philadelphia International\n",
      "\n",
      "[196227 rows x 2 columns]\n"
     ]
    }
   ],
   "source": [
    "df1 = pd.read_csv('train_test_3.csv', usecols=[2,17])\n",
    "print(df1)"
   ]
  },
  {
   "cell_type": "code",
   "execution_count": 3,
   "id": "155b0d94",
   "metadata": {},
   "outputs": [
    {
     "data": {
      "text/plain": [
       "0    82.570696\n",
       "1    17.429304\n",
       "Name: DEP_DEL15, dtype: float64"
      ]
     },
     "execution_count": 3,
     "metadata": {},
     "output_type": "execute_result"
    }
   ],
   "source": [
    "#Percentages of flights from all airports that are on-time\n",
    "df1['DEP_DEL15'].value_counts(normalize = True)* 100"
   ]
  },
  {
   "cell_type": "code",
   "execution_count": 7,
   "id": "83dd5683",
   "metadata": {},
   "outputs": [
    {
     "name": "stdout",
     "output_type": "stream",
     "text": [
      "|                                                   |   DEP_DEL15 |\n",
      "|:--------------------------------------------------|------------:|\n",
      "| ('Albuquerque International Sunport', 0)          |    88.2716  |\n",
      "| ('Albuquerque International Sunport', 1)          |    11.7284  |\n",
      "| ('Anchorage International', 0)                    |    90.593   |\n",
      "| ('Anchorage International', 1)                    |     9.40695 |\n",
      "| ('Atlanta Municipal', 0)                          |    86.5155  |\n",
      "| ('Atlanta Municipal', 1)                          |    13.4845  |\n",
      "| ('Austin - Bergstrom International', 0)           |    86.6985  |\n",
      "| ('Austin - Bergstrom International', 1)           |    13.3015  |\n",
      "| ('Birmingham Airport', 0)                         |    83.0935  |\n",
      "| ('Birmingham Airport', 1)                         |    16.9065  |\n",
      "| ('Boise Air Terminal', 0)                         |    87.3377  |\n",
      "| ('Boise Air Terminal', 1)                         |    12.6623  |\n",
      "| ('Bradley International', 0)                      |    85.1685  |\n",
      "| ('Bradley International', 1)                      |    14.8315  |\n",
      "| ('Charleston International', 0)                   |    87.4052  |\n",
      "| ('Charleston International', 1)                   |    12.5948  |\n",
      "| ('Chicago Midway International', 0)               |    69.7199  |\n",
      "| ('Chicago Midway International', 1)               |    30.2801  |\n",
      "| (\"Chicago O'Hare International\", 0)               |    70.8306  |\n",
      "| (\"Chicago O'Hare International\", 1)               |    29.1694  |\n",
      "| ('Cincinnati/Northern Kentucky International', 0) |    80.3597  |\n",
      "| ('Cincinnati/Northern Kentucky International', 1) |    19.6403  |\n",
      "| ('Cleveland-Hopkins International', 0)            |    80.6818  |\n",
      "| ('Cleveland-Hopkins International', 1)            |    19.3182  |\n",
      "| ('Dallas Fort Worth Regional', 0)                 |    82.3708  |\n",
      "| ('Dallas Fort Worth Regional', 1)                 |    17.6292  |\n",
      "| ('Dallas Love Field', 0)                          |    83.4964  |\n",
      "| ('Dallas Love Field', 1)                          |    16.5036  |\n",
      "| ('Des Moines Municipal', 0)                       |    81.5385  |\n",
      "| ('Des Moines Municipal', 1)                       |    18.4615  |\n",
      "| ('Detroit Metro Wayne County', 0)                 |    81.4553  |\n",
      "| ('Detroit Metro Wayne County', 1)                 |    18.5447  |\n",
      "| ('Douglas Municipal', 0)                          |    85.8838  |\n",
      "| ('Douglas Municipal', 1)                          |    14.1162  |\n",
      "| ('El Paso International', 0)                      |    85.6574  |\n",
      "| ('El Paso International', 1)                      |    14.3426  |\n",
      "| ('Eppley Airfield', 0)                            |    83.5705  |\n",
      "| ('Eppley Airfield', 1)                            |    16.4295  |\n",
      "| ('Fort Lauderdale-Hollywood International', 0)    |    79.1302  |\n",
      "| ('Fort Lauderdale-Hollywood International', 1)    |    20.8698  |\n",
      "| ('Friendship International', 0)                   |    83.1227  |\n",
      "| ('Friendship International', 1)                   |    16.8773  |\n",
      "| ('General Mitchell Field', 0)                     |    80.9417  |\n",
      "| ('General Mitchell Field', 1)                     |    19.0583  |\n",
      "| ('Greater Buffalo International', 0)              |    82.0917  |\n",
      "| ('Greater Buffalo International', 1)              |    17.9083  |\n",
      "| ('Greenville-Spartanburg', 0)                     |    86.6525  |\n",
      "| ('Greenville-Spartanburg', 1)                     |    13.3475  |\n",
      "| ('Hollywood-Burbank Midpoint', 0)                 |    85.9495  |\n",
      "| ('Hollywood-Burbank Midpoint', 1)                 |    14.0505  |\n",
      "| ('Honolulu International', 0)                     |    91.3725  |\n",
      "| ('Honolulu International', 1)                     |     8.62745 |\n",
      "| ('Houston Intercontinental', 0)                   |    85.8399  |\n",
      "| ('Houston Intercontinental', 1)                   |    14.1601  |\n",
      "| ('Indianapolis Muni/Weir Cook', 0)                |    83.8667  |\n",
      "| ('Indianapolis Muni/Weir Cook', 1)                |    16.1333  |\n",
      "| ('Jacksonville International', 0)                 |    86.5422  |\n",
      "| ('Jacksonville International', 1)                 |    13.4578  |\n",
      "| ('John F. Kennedy International', 0)              |    81.816   |\n",
      "| ('John F. Kennedy International', 1)              |    18.184   |\n",
      "| ('Kahului Airport', 0)                            |    89.0644  |\n",
      "| ('Kahului Airport', 1)                            |    10.9356  |\n",
      "| ('Kansas City International', 0)                  |    84.9681  |\n",
      "| ('Kansas City International', 1)                  |    15.0319  |\n",
      "| ('Keahole', 0)                                    |    91.224   |\n",
      "| ('Keahole', 1)                                    |     8.77598 |\n",
      "| ('Kent County', 0)                                |    75.9295  |\n",
      "| ('Kent County', 1)                                |    24.0705  |\n",
      "| ('LaGuardia', 0)                                  |    71.6299  |\n",
      "| ('LaGuardia', 1)                                  |    28.3701  |\n",
      "| ('Lambert-St. Louis International', 0)            |    80.6566  |\n",
      "| ('Lambert-St. Louis International', 1)            |    19.3434  |\n",
      "| ('Lihue Airport', 0)                              |    90.4762  |\n",
      "| ('Lihue Airport', 1)                              |     9.52381 |\n",
      "| ('Logan International', 0)                        |    77.4233  |\n",
      "| ('Logan International', 1)                        |    22.5767  |\n",
      "| ('Long Beach Daugherty Field', 0)                 |    84.141   |\n",
      "| ('Long Beach Daugherty Field', 1)                 |    15.859   |\n",
      "| ('Los Angeles International', 0)                  |    83.141   |\n",
      "| ('Los Angeles International', 1)                  |    16.859   |\n",
      "| ('Louis Armstrong New Orleans International', 0)  |    85.1645  |\n",
      "| ('Louis Armstrong New Orleans International', 1)  |    14.8355  |\n",
      "| ('McCarran International', 0)                     |    83.4508  |\n",
      "| ('McCarran International', 1)                     |    16.5492  |\n",
      "| ('McGhee Tyson', 0)                               |    87.8613  |\n",
      "| ('McGhee Tyson', 1)                               |    12.1387  |\n",
      "| ('Memphis International', 0)                      |    86.8829  |\n",
      "| ('Memphis International', 1)                      |    13.1171  |\n",
      "| ('Metropolitan Oakland International', 0)         |    86.9486  |\n",
      "| ('Metropolitan Oakland International', 1)         |    13.0514  |\n",
      "| ('Miami International', 0)                        |    81.6425  |\n",
      "| ('Miami International', 1)                        |    18.3575  |\n",
      "| ('Minneapolis-St Paul International', 0)          |    84.4314  |\n",
      "| ('Minneapolis-St Paul International', 1)          |    15.5686  |\n",
      "| ('Nashville International', 0)                    |    80.8231  |\n",
      "| ('Nashville International', 1)                    |    19.1769  |\n",
      "| ('Newark Liberty International', 0)               |    75.2795  |\n",
      "| ('Newark Liberty International', 1)               |    24.7205  |\n",
      "| ('Norfolk International', 0)                      |    82.5858  |\n",
      "| ('Norfolk International', 1)                      |    17.4142  |\n",
      "| ('Ontario International', 0)                      |    86.8167  |\n",
      "| ('Ontario International', 1)                      |    13.1833  |\n",
      "| ('Orange County', 0)                              |    87.3065  |\n",
      "| ('Orange County', 1)                              |    12.6935  |\n",
      "| ('Orlando International', 0)                      |    81.412   |\n",
      "| ('Orlando International', 1)                      |    18.588   |\n",
      "| ('Palm Beach International', 0)                   |    76.7838  |\n",
      "| ('Palm Beach International', 1)                   |    23.2162  |\n",
      "| ('Palm Springs International', 0)                 |    84.4622  |\n",
      "| ('Palm Springs International', 1)                 |    15.5378  |\n",
      "| ('Philadelphia International', 0)                 |    87.3739  |\n",
      "| ('Philadelphia International', 1)                 |    12.6261  |\n",
      "| ('Phoenix Sky Harbor International', 0)           |    85.4334  |\n",
      "| ('Phoenix Sky Harbor International', 1)           |    14.5666  |\n",
      "| ('Piedmont Triad International', 0)               |    84.2857  |\n",
      "| ('Piedmont Triad International', 1)               |    15.7143  |\n",
      "| ('Pittsburgh International', 0)                   |    83.9775  |\n",
      "| ('Pittsburgh International', 1)                   |    16.0225  |\n",
      "| ('Port Columbus International', 0)                |    83.3095  |\n",
      "| ('Port Columbus International', 1)                |    16.6905  |\n",
      "| ('Portland International', 0)                     |    88.788   |\n",
      "| ('Portland International', 1)                     |    11.212   |\n",
      "| ('Puerto Rico International', 0)                  |    72.4138  |\n",
      "| ('Puerto Rico International', 1)                  |    27.5862  |\n",
      "| ('Raleigh-Durham International', 0)               |    82.3657  |\n",
      "| ('Raleigh-Durham International', 1)               |    17.6343  |\n",
      "| ('Reno/Tahoe International', 0)                   |    85.5903  |\n",
      "| ('Reno/Tahoe International', 1)                   |    14.4097  |\n",
      "| ('Richmond International', 0)                     |    83.7466  |\n",
      "| ('Richmond International', 1)                     |    16.2534  |\n",
      "| ('Ronald Reagan Washington National', 0)          |    81.2022  |\n",
      "| ('Ronald Reagan Washington National', 1)          |    18.7978  |\n",
      "| ('Sacramento International', 0)                   |    88.9175  |\n",
      "| ('Sacramento International', 1)                   |    11.0825  |\n",
      "| ('Salt Lake City International', 0)               |    86.249   |\n",
      "| ('Salt Lake City International', 1)               |    13.751   |\n",
      "| ('San Antonio International', 0)                  |    89.68    |\n",
      "| ('San Antonio International', 1)                  |    10.32    |\n",
      "| ('San Diego International Lindbergh Fl', 0)       |    84.9545  |\n",
      "| ('San Diego International Lindbergh Fl', 1)       |    15.0455  |\n",
      "| ('San Francisco International', 0)                |    77.4131  |\n",
      "| ('San Francisco International', 1)                |    22.5869  |\n",
      "| ('San Jose International', 0)                     |    87.8867  |\n",
      "| ('San Jose International', 1)                     |    12.1133  |\n",
      "| ('Savannah/Hilton Head International', 0)         |    83.2957  |\n",
      "| ('Savannah/Hilton Head International', 1)         |    16.7043  |\n",
      "| ('Seattle International', 0)                      |    88.5504  |\n",
      "| ('Seattle International', 1)                      |    11.4496  |\n",
      "| ('Southwest Florida International', 0)            |    81.0453  |\n",
      "| ('Southwest Florida International', 1)            |    18.9547  |\n",
      "| ('Standiford Field', 0)                           |    82.7786  |\n",
      "| ('Standiford Field', 1)                           |    17.2214  |\n",
      "| ('Stapleton International', 0)                    |    80.7229  |\n",
      "| ('Stapleton International', 1)                    |    19.2771  |\n",
      "| ('Tampa International', 0)                        |    82.9737  |\n",
      "| ('Tampa International', 1)                        |    17.0263  |\n",
      "| ('Theodore Francis Green State', 0)               |    81.5261  |\n",
      "| ('Theodore Francis Green State', 1)               |    18.4739  |\n",
      "| ('Tucson International', 0)                       |    87.7086  |\n",
      "| ('Tucson International', 1)                       |    12.2914  |\n",
      "| ('Tulsa International', 0)                        |    88.7352  |\n",
      "| ('Tulsa International', 1)                        |    11.2648  |\n",
      "| ('Washington Dulles International', 0)            |    86.0091  |\n",
      "| ('Washington Dulles International', 1)            |    13.9909  |\n",
      "| ('Will Rogers World', 0)                          |    85.8322  |\n",
      "| ('Will Rogers World', 1)                          |    14.1678  |\n",
      "| ('William P Hobby', 0)                            |    81.03    |\n",
      "| ('William P Hobby', 1)                            |    18.97    |\n"
     ]
    }
   ],
   "source": [
    "ontime_df = pd.DataFrame(df1.groupby('DEPARTING_AIRPORT')['DEP_DEL15'].value_counts(normalize = True)* 100)\n",
    "print(ontime_df.to_markdown())"
   ]
  },
  {
   "cell_type": "markdown",
   "id": "8155309f",
   "metadata": {},
   "source": [
    "#Above average on time\n",
    "Albuquerque International Sunport\n",
    "Anchorage International\n",
    "Atlanta Municipal\n",
    "Austin - Bergstrom International\n",
    "Birmingham Airport\n",
    "Boise Air Terminal\n",
    "Bradley International\n",
    "Charleston International\n",
    "Dallas Love Field\n",
    "Douglas Municipal\n",
    "El Paso International\n",
    "Greenville-Spartanburg\n",
    "Hollywood-Burbank Midpoint\n",
    "Honolulu International\n",
    "Houston Intercontinental\n",
    "Indianapolis Muni/Weir Cook\n",
    "Jacksonville International\n",
    "Kahului Airport\n",
    "Kansas City International\n",
    "Keahole\n",
    "Lihue Airport\n",
    "Long Beach Daugherty Field\n",
    "Louis Armstrong New Orleans International\n",
    "McGhee Tyson\n",
    "Memphis International\n",
    "Metropolitan Oakland International\n",
    "Minneapolis-St Paul International\n",
    "Ontario International\n",
    "Orange County\n",
    "Palm Springs International\n",
    "Philadelphia International\n",
    "Phoenix Sky Harbor International\n",
    "Piedmont Triad International\n",
    "Pittsburgh International\n",
    "Reno/Tahoe International\n",
    "Richmond International\n",
    "Sacramento International\n",
    "Salt Lake City International\n",
    "San Antonio International\n",
    "San Diego International Lindbergh Fl\n",
    "San Jose International\n",
    "Seattle International"
   ]
  },
  {
   "cell_type": "markdown",
   "id": "4c7bb5f5",
   "metadata": {},
   "source": [
    "#Less than Average on-time\n",
    "Chicago Midway International\n",
    "Chicago O'Hare International\n",
    "Cincinnati/Northern Kentucky International\n",
    "Cleveland-Hopkins International\n",
    "Dallas Fort Worth Regional\n",
    "Des Moines Municipal\n",
    "Detroit Metro Wayne County\n",
    "Eppley Airfield\n",
    "Fort Lauderdale-Hollywood International\n",
    "Friendship International\n",
    "General Mitchell Field\n",
    "Greater Buffalo International\n",
    "John F. Kennedy International\n",
    "Kent County\n",
    "LaGuardia\n",
    "Lambert-St. Louis International\n",
    "Logan International\n",
    "Los Angeles International\n",
    "McCarran International\n",
    "Miami International\n",
    "Nashville International\n",
    "Newark Liberty International\n",
    "Norfolk International\n",
    "Orlando International\n",
    "Palm Beach International\n",
    "Port Columbus International\n",
    "Puerto Rico International\n",
    "Raleigh-Durham International\n",
    "Ronald Reagan Washington National\n",
    "San Francisco International\n",
    "Savannah/Hilton Head International\n",
    "Southwest Florida International"
   ]
  },
  {
   "cell_type": "code",
   "execution_count": 39,
   "id": "dba647d0",
   "metadata": {
    "scrolled": true
   },
   "outputs": [
    {
     "data": {
      "text/html": [
       "<div>\n",
       "<style scoped>\n",
       "    .dataframe tbody tr th:only-of-type {\n",
       "        vertical-align: middle;\n",
       "    }\n",
       "\n",
       "    .dataframe tbody tr th {\n",
       "        vertical-align: top;\n",
       "    }\n",
       "\n",
       "    .dataframe thead th {\n",
       "        text-align: right;\n",
       "    }\n",
       "</style>\n",
       "<table border=\"1\" class=\"dataframe\">\n",
       "  <thead>\n",
       "    <tr style=\"text-align: right;\">\n",
       "      <th></th>\n",
       "      <th>MONTH</th>\n",
       "      <th>DAY_OF_WEEK</th>\n",
       "      <th>DEP_BLOCK</th>\n",
       "      <th>CARRIER_NAME</th>\n",
       "      <th>DEPARTING_AIRPORT</th>\n",
       "    </tr>\n",
       "  </thead>\n",
       "  <tbody>\n",
       "    <tr>\n",
       "      <th>0</th>\n",
       "      <td>1</td>\n",
       "      <td>1</td>\n",
       "      <td>EVENING</td>\n",
       "      <td>Spirit Air Lines</td>\n",
       "      <td>McCarran International</td>\n",
       "    </tr>\n",
       "    <tr>\n",
       "      <th>1</th>\n",
       "      <td>1</td>\n",
       "      <td>2</td>\n",
       "      <td>LATE_NIGHT</td>\n",
       "      <td>United Air Lines Inc.</td>\n",
       "      <td>Newark Liberty International</td>\n",
       "    </tr>\n",
       "    <tr>\n",
       "      <th>2</th>\n",
       "      <td>1</td>\n",
       "      <td>5</td>\n",
       "      <td>MORNING</td>\n",
       "      <td>Spirit Air Lines</td>\n",
       "      <td>Logan International</td>\n",
       "    </tr>\n",
       "    <tr>\n",
       "      <th>3</th>\n",
       "      <td>1</td>\n",
       "      <td>5</td>\n",
       "      <td>AFTERNOON</td>\n",
       "      <td>American Airlines Inc.</td>\n",
       "      <td>LaGuardia</td>\n",
       "    </tr>\n",
       "    <tr>\n",
       "      <th>4</th>\n",
       "      <td>1</td>\n",
       "      <td>7</td>\n",
       "      <td>AFTERNOON</td>\n",
       "      <td>Delta Air Lines Inc.</td>\n",
       "      <td>Phoenix Sky Harbor International</td>\n",
       "    </tr>\n",
       "    <tr>\n",
       "      <th>...</th>\n",
       "      <td>...</td>\n",
       "      <td>...</td>\n",
       "      <td>...</td>\n",
       "      <td>...</td>\n",
       "      <td>...</td>\n",
       "    </tr>\n",
       "    <tr>\n",
       "      <th>196222</th>\n",
       "      <td>1</td>\n",
       "      <td>4</td>\n",
       "      <td>LATE_NIGHT</td>\n",
       "      <td>JetBlue Airways</td>\n",
       "      <td>San Jose International</td>\n",
       "    </tr>\n",
       "    <tr>\n",
       "      <th>196223</th>\n",
       "      <td>1</td>\n",
       "      <td>4</td>\n",
       "      <td>MORNING</td>\n",
       "      <td>Delta Air Lines Inc.</td>\n",
       "      <td>Austin - Bergstrom International</td>\n",
       "    </tr>\n",
       "    <tr>\n",
       "      <th>196224</th>\n",
       "      <td>1</td>\n",
       "      <td>4</td>\n",
       "      <td>AFTERNOON</td>\n",
       "      <td>Mesa Airlines Inc.</td>\n",
       "      <td>Houston Intercontinental</td>\n",
       "    </tr>\n",
       "    <tr>\n",
       "      <th>196225</th>\n",
       "      <td>1</td>\n",
       "      <td>7</td>\n",
       "      <td>MIDDAY</td>\n",
       "      <td>Atlantic Southeast Airlines</td>\n",
       "      <td>Chicago O'Hare International</td>\n",
       "    </tr>\n",
       "    <tr>\n",
       "      <th>196226</th>\n",
       "      <td>1</td>\n",
       "      <td>5</td>\n",
       "      <td>MORNING</td>\n",
       "      <td>American Airlines Inc.</td>\n",
       "      <td>Philadelphia International</td>\n",
       "    </tr>\n",
       "  </tbody>\n",
       "</table>\n",
       "<p>196227 rows × 5 columns</p>\n",
       "</div>"
      ],
      "text/plain": [
       "        MONTH  DAY_OF_WEEK   DEP_BLOCK                 CARRIER_NAME  \\\n",
       "0           1            1     EVENING             Spirit Air Lines   \n",
       "1           1            2  LATE_NIGHT        United Air Lines Inc.   \n",
       "2           1            5     MORNING             Spirit Air Lines   \n",
       "3           1            5   AFTERNOON       American Airlines Inc.   \n",
       "4           1            7   AFTERNOON         Delta Air Lines Inc.   \n",
       "...       ...          ...         ...                          ...   \n",
       "196222      1            4  LATE_NIGHT              JetBlue Airways   \n",
       "196223      1            4     MORNING         Delta Air Lines Inc.   \n",
       "196224      1            4   AFTERNOON           Mesa Airlines Inc.   \n",
       "196225      1            7      MIDDAY  Atlantic Southeast Airlines   \n",
       "196226      1            5     MORNING       American Airlines Inc.   \n",
       "\n",
       "                       DEPARTING_AIRPORT  \n",
       "0                 McCarran International  \n",
       "1           Newark Liberty International  \n",
       "2                    Logan International  \n",
       "3                              LaGuardia  \n",
       "4       Phoenix Sky Harbor International  \n",
       "...                                  ...  \n",
       "196222            San Jose International  \n",
       "196223  Austin - Bergstrom International  \n",
       "196224          Houston Intercontinental  \n",
       "196225      Chicago O'Hare International  \n",
       "196226        Philadelphia International  \n",
       "\n",
       "[196227 rows x 5 columns]"
      ]
     },
     "execution_count": 39,
     "metadata": {},
     "output_type": "execute_result"
    }
   ],
   "source": [
    "df = pd.read_csv('train_test_3.csv', usecols = [0,1,4,8,17])\n",
    "df"
   ]
  },
  {
   "cell_type": "code",
   "execution_count": 38,
   "id": "6a00ce4a",
   "metadata": {
    "scrolled": false
   },
   "outputs": [
    {
     "data": {
      "text/html": [
       "<div>\n",
       "<style scoped>\n",
       "    .dataframe tbody tr th:only-of-type {\n",
       "        vertical-align: middle;\n",
       "    }\n",
       "\n",
       "    .dataframe tbody tr th {\n",
       "        vertical-align: top;\n",
       "    }\n",
       "\n",
       "    .dataframe thead th {\n",
       "        text-align: right;\n",
       "    }\n",
       "</style>\n",
       "<table border=\"1\" class=\"dataframe\">\n",
       "  <thead>\n",
       "    <tr style=\"text-align: right;\">\n",
       "      <th></th>\n",
       "      <th>MONTH</th>\n",
       "      <th>DAY_OF_WEEK</th>\n",
       "      <th>AIRLINE_AIRPORT_FLIGHTS_MONTH</th>\n",
       "    </tr>\n",
       "  </thead>\n",
       "  <tbody>\n",
       "    <tr>\n",
       "      <th>count</th>\n",
       "      <td>196227.0</td>\n",
       "      <td>196227.000000</td>\n",
       "      <td>196227.000000</td>\n",
       "    </tr>\n",
       "    <tr>\n",
       "      <th>mean</th>\n",
       "      <td>1.0</td>\n",
       "      <td>3.835930</td>\n",
       "      <td>3238.013123</td>\n",
       "    </tr>\n",
       "    <tr>\n",
       "      <th>std</th>\n",
       "      <td>0.0</td>\n",
       "      <td>1.917874</td>\n",
       "      <td>3900.000933</td>\n",
       "    </tr>\n",
       "    <tr>\n",
       "      <th>min</th>\n",
       "      <td>1.0</td>\n",
       "      <td>1.000000</td>\n",
       "      <td>1.000000</td>\n",
       "    </tr>\n",
       "    <tr>\n",
       "      <th>25%</th>\n",
       "      <td>1.0</td>\n",
       "      <td>2.000000</td>\n",
       "      <td>657.000000</td>\n",
       "    </tr>\n",
       "    <tr>\n",
       "      <th>50%</th>\n",
       "      <td>1.0</td>\n",
       "      <td>4.000000</td>\n",
       "      <td>2114.000000</td>\n",
       "    </tr>\n",
       "    <tr>\n",
       "      <th>75%</th>\n",
       "      <td>1.0</td>\n",
       "      <td>5.000000</td>\n",
       "      <td>4483.000000</td>\n",
       "    </tr>\n",
       "    <tr>\n",
       "      <th>max</th>\n",
       "      <td>1.0</td>\n",
       "      <td>7.000000</td>\n",
       "      <td>18809.000000</td>\n",
       "    </tr>\n",
       "  </tbody>\n",
       "</table>\n",
       "</div>"
      ],
      "text/plain": [
       "          MONTH    DAY_OF_WEEK  AIRLINE_AIRPORT_FLIGHTS_MONTH\n",
       "count  196227.0  196227.000000                  196227.000000\n",
       "mean        1.0       3.835930                    3238.013123\n",
       "std         0.0       1.917874                    3900.000933\n",
       "min         1.0       1.000000                       1.000000\n",
       "25%         1.0       2.000000                     657.000000\n",
       "50%         1.0       4.000000                    2114.000000\n",
       "75%         1.0       5.000000                    4483.000000\n",
       "max         1.0       7.000000                   18809.000000"
      ]
     },
     "execution_count": 38,
     "metadata": {},
     "output_type": "execute_result"
    }
   ],
   "source": [
    "df.describe()"
   ]
  },
  {
   "cell_type": "code",
   "execution_count": 101,
   "id": "d42bcbe8",
   "metadata": {
    "scrolled": true
   },
   "outputs": [
    {
     "data": {
      "text/plain": [
       "4    17.072064\n",
       "3    16.544105\n",
       "2    15.938683\n",
       "5    13.843151\n",
       "1    13.504258\n",
       "7    12.488597\n",
       "6    10.609141\n",
       "Name: DAY_OF_WEEK, dtype: float64"
      ]
     },
     "execution_count": 101,
     "metadata": {},
     "output_type": "execute_result"
    },
    {
     "data": {
      "image/png": "[encoded data removed]",
      "text/plain": [
       "<Figure size 432x288 with 1 Axes>"
      ]
     },
     "metadata": {
      "needs_background": "light"
     },
     "output_type": "display_data"
    }
   ],
   "source": [
    "import matplotlib.pyplot as plt\n",
    "plt.hist(df['DAY_OF_WEEK'], rwidth = .5)\n",
    "df['DAY_OF_WEEK'].value_counts(normalize = True)* 100"
   ]
  },
  {
   "cell_type": "code",
   "execution_count": 97,
   "id": "f5d5a352",
   "metadata": {
    "scrolled": true
   },
   "outputs": [
    {
     "data": {
      "text/plain": [
       "MORNING          26.023432\n",
       "AFTERNOON        23.782150\n",
       "EVENING          22.796047\n",
       "MIDDAY           18.740540\n",
       "LATE_NIGHT        6.540384\n",
       "EARLY_MORNING     2.117446\n",
       "Name: DEP_BLOCK, dtype: float64"
      ]
     },
     "execution_count": 97,
     "metadata": {},
     "output_type": "execute_result"
    },
    {
     "data": {
      "image/png": "[encoded data removed]",
      "text/plain": [
       "<Figure size 432x288 with 1 Axes>"
      ]
     },
     "metadata": {
      "needs_background": "light"
     },
     "output_type": "display_data"
    }
   ],
   "source": [
    "plt.hist(df['DEP_BLOCK'],rwidth=.8, bins = 6)\n",
    "df['DEP_BLOCK'].value_counts(normalize = True)* 100"
   ]
  },
  {
   "cell_type": "code",
   "execution_count": 126,
   "id": "a08fd9ac",
   "metadata": {},
   "outputs": [
    {
     "name": "stdout",
     "output_type": "stream",
     "text": [
      "0.11442732898740465\n",
      "-0.028097880170343727\n"
     ]
    }
   ],
   "source": [
    "df.loc[df['DEP_BLOCK'] == 'EARLY_MORNING', 'BLOCK_NUM'] = 1 \n",
    "df.loc[df['DEP_BLOCK'] == 'MORNING', 'BLOCK_NUM'] = 2\n",
    "df.loc[df['DEP_BLOCK'] == 'AFTERNOON', 'BLOCK_NUM'] = 3\n",
    "df.loc[df['DEP_BLOCK'] == 'MIDDAY', 'BLOCK_NUM'] = 4\n",
    "df.loc[df['DEP_BLOCK'] == 'EVENING', 'BLOCK_NUM'] = 5 \n",
    "df.loc[df['DEP_BLOCK'] == 'LATE_NIGHT', 'BLOCK_NUM'] = 6\n",
    "print(df['BLOCK_NUM'].corr(df['DEP_DEL15']))\n",
    "print(df['BLOCK_NUM'].corr(df['CONCURRENT_FLIGHTS']))"
   ]
  },
  {
   "cell_type": "code",
   "execution_count": 2,
   "id": "508c16cd",
   "metadata": {
    "scrolled": true
   },
   "outputs": [
    {
     "data": {
      "text/html": [
       "<div>\n",
       "<style scoped>\n",
       "    .dataframe tbody tr th:only-of-type {\n",
       "        vertical-align: middle;\n",
       "    }\n",
       "\n",
       "    .dataframe tbody tr th {\n",
       "        vertical-align: top;\n",
       "    }\n",
       "\n",
       "    .dataframe thead th {\n",
       "        text-align: right;\n",
       "    }\n",
       "</style>\n",
       "<table border=\"1\" class=\"dataframe\">\n",
       "  <thead>\n",
       "    <tr style=\"text-align: right;\">\n",
       "      <th></th>\n",
       "      <th>MONTH</th>\n",
       "      <th>DAY_OF_WEEK</th>\n",
       "      <th>DEP_DEL15</th>\n",
       "      <th>DISTANCE_GROUP</th>\n",
       "      <th>DEP_BLOCK</th>\n",
       "      <th>SEGMENT_NUMBER</th>\n",
       "      <th>CONCURRENT_FLIGHTS</th>\n",
       "      <th>NUMBER_OF_SEATS</th>\n",
       "      <th>CARRIER_NAME</th>\n",
       "      <th>AIRPORT_FLIGHTS_MONTH</th>\n",
       "      <th>...</th>\n",
       "      <th>PLANE_AGE</th>\n",
       "      <th>DEPARTING_AIRPORT</th>\n",
       "      <th>LATITUDE</th>\n",
       "      <th>LONGITUDE</th>\n",
       "      <th>PREVIOUS_AIRPORT</th>\n",
       "      <th>PRCP</th>\n",
       "      <th>SNOW</th>\n",
       "      <th>SNWD</th>\n",
       "      <th>TMAX</th>\n",
       "      <th>AWND</th>\n",
       "    </tr>\n",
       "  </thead>\n",
       "  <tbody>\n",
       "    <tr>\n",
       "      <th>0</th>\n",
       "      <td>1</td>\n",
       "      <td>1</td>\n",
       "      <td>1</td>\n",
       "      <td>1</td>\n",
       "      <td>EVENING</td>\n",
       "      <td>3</td>\n",
       "      <td>83</td>\n",
       "      <td>145</td>\n",
       "      <td>Spirit Air Lines</td>\n",
       "      <td>13056</td>\n",
       "      <td>...</td>\n",
       "      <td>12</td>\n",
       "      <td>McCarran International</td>\n",
       "      <td>36.080</td>\n",
       "      <td>-115.152</td>\n",
       "      <td>Metropolitan Oakland International</td>\n",
       "      <td>0.00</td>\n",
       "      <td>0.0</td>\n",
       "      <td>0.0</td>\n",
       "      <td>69</td>\n",
       "      <td>5.14</td>\n",
       "    </tr>\n",
       "    <tr>\n",
       "      <th>1</th>\n",
       "      <td>1</td>\n",
       "      <td>2</td>\n",
       "      <td>0</td>\n",
       "      <td>1</td>\n",
       "      <td>LATE_NIGHT</td>\n",
       "      <td>4</td>\n",
       "      <td>18</td>\n",
       "      <td>120</td>\n",
       "      <td>United Air Lines Inc.</td>\n",
       "      <td>10281</td>\n",
       "      <td>...</td>\n",
       "      <td>18</td>\n",
       "      <td>Newark Liberty International</td>\n",
       "      <td>40.696</td>\n",
       "      <td>-74.172</td>\n",
       "      <td>Gallatin Field</td>\n",
       "      <td>0.15</td>\n",
       "      <td>0.0</td>\n",
       "      <td>0.0</td>\n",
       "      <td>44</td>\n",
       "      <td>2.46</td>\n",
       "    </tr>\n",
       "    <tr>\n",
       "      <th>2</th>\n",
       "      <td>1</td>\n",
       "      <td>5</td>\n",
       "      <td>0</td>\n",
       "      <td>5</td>\n",
       "      <td>MORNING</td>\n",
       "      <td>1</td>\n",
       "      <td>125</td>\n",
       "      <td>178</td>\n",
       "      <td>Spirit Air Lines</td>\n",
       "      <td>10728</td>\n",
       "      <td>...</td>\n",
       "      <td>6</td>\n",
       "      <td>Logan International</td>\n",
       "      <td>42.364</td>\n",
       "      <td>-71.006</td>\n",
       "      <td>NONE</td>\n",
       "      <td>0.00</td>\n",
       "      <td>0.0</td>\n",
       "      <td>0.0</td>\n",
       "      <td>30</td>\n",
       "      <td>18.12</td>\n",
       "    </tr>\n",
       "    <tr>\n",
       "      <th>3</th>\n",
       "      <td>1</td>\n",
       "      <td>5</td>\n",
       "      <td>1</td>\n",
       "      <td>5</td>\n",
       "      <td>AFTERNOON</td>\n",
       "      <td>2</td>\n",
       "      <td>86</td>\n",
       "      <td>172</td>\n",
       "      <td>American Airlines Inc.</td>\n",
       "      <td>13375</td>\n",
       "      <td>...</td>\n",
       "      <td>1</td>\n",
       "      <td>LaGuardia</td>\n",
       "      <td>40.779</td>\n",
       "      <td>-73.876</td>\n",
       "      <td>Miami International</td>\n",
       "      <td>0.00</td>\n",
       "      <td>0.0</td>\n",
       "      <td>0.0</td>\n",
       "      <td>47</td>\n",
       "      <td>9.84</td>\n",
       "    </tr>\n",
       "    <tr>\n",
       "      <th>4</th>\n",
       "      <td>1</td>\n",
       "      <td>7</td>\n",
       "      <td>0</td>\n",
       "      <td>6</td>\n",
       "      <td>AFTERNOON</td>\n",
       "      <td>3</td>\n",
       "      <td>114</td>\n",
       "      <td>191</td>\n",
       "      <td>Delta Air Lines Inc.</td>\n",
       "      <td>14576</td>\n",
       "      <td>...</td>\n",
       "      <td>1</td>\n",
       "      <td>Phoenix Sky Harbor International</td>\n",
       "      <td>33.436</td>\n",
       "      <td>-112.009</td>\n",
       "      <td>Detroit Metro Wayne County</td>\n",
       "      <td>0.01</td>\n",
       "      <td>0.0</td>\n",
       "      <td>0.0</td>\n",
       "      <td>63</td>\n",
       "      <td>2.01</td>\n",
       "    </tr>\n",
       "    <tr>\n",
       "      <th>...</th>\n",
       "      <td>...</td>\n",
       "      <td>...</td>\n",
       "      <td>...</td>\n",
       "      <td>...</td>\n",
       "      <td>...</td>\n",
       "      <td>...</td>\n",
       "      <td>...</td>\n",
       "      <td>...</td>\n",
       "      <td>...</td>\n",
       "      <td>...</td>\n",
       "      <td>...</td>\n",
       "      <td>...</td>\n",
       "      <td>...</td>\n",
       "      <td>...</td>\n",
       "      <td>...</td>\n",
       "      <td>...</td>\n",
       "      <td>...</td>\n",
       "      <td>...</td>\n",
       "      <td>...</td>\n",
       "      <td>...</td>\n",
       "      <td>...</td>\n",
       "    </tr>\n",
       "    <tr>\n",
       "      <th>196222</th>\n",
       "      <td>1</td>\n",
       "      <td>4</td>\n",
       "      <td>0</td>\n",
       "      <td>11</td>\n",
       "      <td>LATE_NIGHT</td>\n",
       "      <td>3</td>\n",
       "      <td>6</td>\n",
       "      <td>129</td>\n",
       "      <td>JetBlue Airways</td>\n",
       "      <td>4845</td>\n",
       "      <td>...</td>\n",
       "      <td>11</td>\n",
       "      <td>San Jose International</td>\n",
       "      <td>37.363</td>\n",
       "      <td>-121.941</td>\n",
       "      <td>John F. Kennedy International</td>\n",
       "      <td>0.00</td>\n",
       "      <td>0.0</td>\n",
       "      <td>0.0</td>\n",
       "      <td>58</td>\n",
       "      <td>2.68</td>\n",
       "    </tr>\n",
       "    <tr>\n",
       "      <th>196223</th>\n",
       "      <td>1</td>\n",
       "      <td>4</td>\n",
       "      <td>0</td>\n",
       "      <td>5</td>\n",
       "      <td>MORNING</td>\n",
       "      <td>1</td>\n",
       "      <td>46</td>\n",
       "      <td>110</td>\n",
       "      <td>Delta Air Lines Inc.</td>\n",
       "      <td>4887</td>\n",
       "      <td>...</td>\n",
       "      <td>19</td>\n",
       "      <td>Austin - Bergstrom International</td>\n",
       "      <td>30.194</td>\n",
       "      <td>-97.670</td>\n",
       "      <td>NONE</td>\n",
       "      <td>0.00</td>\n",
       "      <td>0.0</td>\n",
       "      <td>0.0</td>\n",
       "      <td>61</td>\n",
       "      <td>3.36</td>\n",
       "    </tr>\n",
       "    <tr>\n",
       "      <th>196224</th>\n",
       "      <td>1</td>\n",
       "      <td>4</td>\n",
       "      <td>0</td>\n",
       "      <td>2</td>\n",
       "      <td>AFTERNOON</td>\n",
       "      <td>1</td>\n",
       "      <td>112</td>\n",
       "      <td>76</td>\n",
       "      <td>Mesa Airlines Inc.</td>\n",
       "      <td>14501</td>\n",
       "      <td>...</td>\n",
       "      <td>5</td>\n",
       "      <td>Houston Intercontinental</td>\n",
       "      <td>29.983</td>\n",
       "      <td>-95.340</td>\n",
       "      <td>NONE</td>\n",
       "      <td>0.17</td>\n",
       "      <td>0.0</td>\n",
       "      <td>0.0</td>\n",
       "      <td>85</td>\n",
       "      <td>13.42</td>\n",
       "    </tr>\n",
       "    <tr>\n",
       "      <th>196225</th>\n",
       "      <td>1</td>\n",
       "      <td>7</td>\n",
       "      <td>1</td>\n",
       "      <td>2</td>\n",
       "      <td>MIDDAY</td>\n",
       "      <td>1</td>\n",
       "      <td>177</td>\n",
       "      <td>50</td>\n",
       "      <td>Atlantic Southeast Airlines</td>\n",
       "      <td>23400</td>\n",
       "      <td>...</td>\n",
       "      <td>17</td>\n",
       "      <td>Chicago O'Hare International</td>\n",
       "      <td>41.978</td>\n",
       "      <td>-87.906</td>\n",
       "      <td>NONE</td>\n",
       "      <td>0.01</td>\n",
       "      <td>0.3</td>\n",
       "      <td>2.0</td>\n",
       "      <td>31</td>\n",
       "      <td>12.53</td>\n",
       "    </tr>\n",
       "    <tr>\n",
       "      <th>196226</th>\n",
       "      <td>1</td>\n",
       "      <td>5</td>\n",
       "      <td>0</td>\n",
       "      <td>5</td>\n",
       "      <td>MORNING</td>\n",
       "      <td>1</td>\n",
       "      <td>77</td>\n",
       "      <td>209</td>\n",
       "      <td>American Airlines Inc.</td>\n",
       "      <td>8899</td>\n",
       "      <td>...</td>\n",
       "      <td>24</td>\n",
       "      <td>Philadelphia International</td>\n",
       "      <td>39.868</td>\n",
       "      <td>-75.249</td>\n",
       "      <td>NONE</td>\n",
       "      <td>0.04</td>\n",
       "      <td>0.0</td>\n",
       "      <td>0.0</td>\n",
       "      <td>45</td>\n",
       "      <td>6.04</td>\n",
       "    </tr>\n",
       "  </tbody>\n",
       "</table>\n",
       "<p>196227 rows × 26 columns</p>\n",
       "</div>"
      ],
      "text/plain": [
       "        MONTH  DAY_OF_WEEK  DEP_DEL15  DISTANCE_GROUP   DEP_BLOCK  \\\n",
       "0           1            1          1               1     EVENING   \n",
       "1           1            2          0               1  LATE_NIGHT   \n",
       "2           1            5          0               5     MORNING   \n",
       "3           1            5          1               5   AFTERNOON   \n",
       "4           1            7          0               6   AFTERNOON   \n",
       "...       ...          ...        ...             ...         ...   \n",
       "196222      1            4          0              11  LATE_NIGHT   \n",
       "196223      1            4          0               5     MORNING   \n",
       "196224      1            4          0               2   AFTERNOON   \n",
       "196225      1            7          1               2      MIDDAY   \n",
       "196226      1            5          0               5     MORNING   \n",
       "\n",
       "        SEGMENT_NUMBER  CONCURRENT_FLIGHTS  NUMBER_OF_SEATS  \\\n",
       "0                    3                  83              145   \n",
       "1                    4                  18              120   \n",
       "2                    1                 125              178   \n",
       "3                    2                  86              172   \n",
       "4                    3                 114              191   \n",
       "...                ...                 ...              ...   \n",
       "196222               3                   6              129   \n",
       "196223               1                  46              110   \n",
       "196224               1                 112               76   \n",
       "196225               1                 177               50   \n",
       "196226               1                  77              209   \n",
       "\n",
       "                       CARRIER_NAME  AIRPORT_FLIGHTS_MONTH  ...  PLANE_AGE  \\\n",
       "0                  Spirit Air Lines                  13056  ...         12   \n",
       "1             United Air Lines Inc.                  10281  ...         18   \n",
       "2                  Spirit Air Lines                  10728  ...          6   \n",
       "3            American Airlines Inc.                  13375  ...          1   \n",
       "4              Delta Air Lines Inc.                  14576  ...          1   \n",
       "...                             ...                    ...  ...        ...   \n",
       "196222              JetBlue Airways                   4845  ...         11   \n",
       "196223         Delta Air Lines Inc.                   4887  ...         19   \n",
       "196224           Mesa Airlines Inc.                  14501  ...          5   \n",
       "196225  Atlantic Southeast Airlines                  23400  ...         17   \n",
       "196226       American Airlines Inc.                   8899  ...         24   \n",
       "\n",
       "                       DEPARTING_AIRPORT  LATITUDE  LONGITUDE  \\\n",
       "0                 McCarran International    36.080   -115.152   \n",
       "1           Newark Liberty International    40.696    -74.172   \n",
       "2                    Logan International    42.364    -71.006   \n",
       "3                              LaGuardia    40.779    -73.876   \n",
       "4       Phoenix Sky Harbor International    33.436   -112.009   \n",
       "...                                  ...       ...        ...   \n",
       "196222            San Jose International    37.363   -121.941   \n",
       "196223  Austin - Bergstrom International    30.194    -97.670   \n",
       "196224          Houston Intercontinental    29.983    -95.340   \n",
       "196225      Chicago O'Hare International    41.978    -87.906   \n",
       "196226        Philadelphia International    39.868    -75.249   \n",
       "\n",
       "                          PREVIOUS_AIRPORT  PRCP  SNOW SNWD  TMAX   AWND  \n",
       "0       Metropolitan Oakland International  0.00   0.0  0.0    69   5.14  \n",
       "1                           Gallatin Field  0.15   0.0  0.0    44   2.46  \n",
       "2                                     NONE  0.00   0.0  0.0    30  18.12  \n",
       "3                      Miami International  0.00   0.0  0.0    47   9.84  \n",
       "4               Detroit Metro Wayne County  0.01   0.0  0.0    63   2.01  \n",
       "...                                    ...   ...   ...  ...   ...    ...  \n",
       "196222       John F. Kennedy International  0.00   0.0  0.0    58   2.68  \n",
       "196223                                NONE  0.00   0.0  0.0    61   3.36  \n",
       "196224                                NONE  0.17   0.0  0.0    85  13.42  \n",
       "196225                                NONE  0.01   0.3  2.0    31  12.53  \n",
       "196226                                NONE  0.04   0.0  0.0    45   6.04  \n",
       "\n",
       "[196227 rows x 26 columns]"
      ]
     },
     "execution_count": 2,
     "metadata": {},
     "output_type": "execute_result"
    }
   ],
   "source": [
    "df = pd.read_csv('train_test_3.csv')\n",
    "df"
   ]
  },
  {
   "cell_type": "code",
   "execution_count": 14,
   "id": "e9f2c03c",
   "metadata": {
    "scrolled": true
   },
   "outputs": [
    {
     "name": "stdout",
     "output_type": "stream",
     "text": [
      "<class 'pandas.core.frame.DataFrame'>\n",
      "Int64Index: 84 entries, 0 to 8307\n",
      "Data columns (total 4 columns):\n",
      " #   Column                 Non-Null Count  Dtype  \n",
      "---  ------                 --------------  -----  \n",
      " 0   DEPARTING_AIRPORT      84 non-null     object \n",
      " 1   LATITUDE               84 non-null     float64\n",
      " 2   LONGITUDE              84 non-null     float64\n",
      " 3   AIRPORT_FLIGHTS_MONTH  84 non-null     int64  \n",
      "dtypes: float64(2), int64(1), object(1)\n",
      "memory usage: 3.3+ KB\n"
     ]
    }
   ],
   "source": [
    "latlon = df[['DEPARTING_AIRPORT','LATITUDE','LONGITUDE','AIRPORT_FLIGHTS_MONTH']]\n",
    "latlon = latlon.drop_duplicates()\n",
    "latlon"
   ]
  },
  {
   "cell_type": "code",
   "execution_count": 21,
   "id": "58f6dd91",
   "metadata": {},
   "outputs": [
    {
     "data": {
      "application/vnd.plotly.v1+json": {
       "config": {
        "plotlyServerURL": "https://plot.ly"
       },
       "data": [
        {
         "lat": [
          36.08,
          40.696,
          42.364,
          40.779,
          33.436,
          28.432,
          42.217,
          32.894,
          29.991,
          33.641,
          40.639,
          41.785,
          32.116,
          35.219,
          36.127,
          30.485,
          47.447,
          41.978,
          25.792,
          32.733,
          41.411,
          45.589,
          38.18,
          33.942,
          35.392,
          37.619,
          39.868,
          19.739,
          39.774,
          39.048,
          33.827,
          35.812,
          35.875,
          40.497,
          27.973,
          44.886,
          35.05,
          33.676,
          41.939,
          39.991,
          38.696,
          36.092,
          29.645,
          37.721,
          29.983,
          39.298,
          40.784,
          37.505,
          42.95,
          38.747,
          39.729,
          30.194,
          39.498,
          42.941,
          41.302,
          31.807,
          29.533,
          32.847,
          36.896,
          26.536,
          38.942,
          26.682,
          38.852,
          34.2,
          34.899,
          41.728,
          21.319,
          39.176,
          41.534,
          20.901,
          26.074,
          33.563,
          61.169,
          42.881,
          32.127,
          37.363,
          32.899,
          35.042,
          33.818,
          21.979,
          36.198,
          43.565,
          34.056,
          18.44
         ],
         "lon": [
          -115.152,
          -74.172,
          -71.006,
          -73.876,
          -112.009,
          -81.325,
          -83.344,
          -97.03,
          -90.251,
          -84.427,
          -73.777,
          -87.752,
          -110.941,
          -80.936,
          -86.682,
          -81.688,
          -122.306,
          -87.906,
          -80.286,
          -117.187,
          -81.849,
          -122.595,
          -85.739,
          -118.408,
          -97.602,
          -122.375,
          -75.249,
          -156.046,
          -104.88,
          -84.669,
          -116.505,
          -83.992,
          -78.782,
          -80.236,
          -82.535,
          -93.218,
          -89.979,
          -117.867,
          -72.683,
          -82.878,
          -121.59,
          -79.943,
          -95.279,
          -122.221,
          -95.34,
          -94.714,
          -111.967,
          -77.32,
          -87.897,
          -90.364,
          -86.282,
          -97.67,
          -119.768,
          -78.736,
          -95.893,
          -106.377,
          -98.469,
          -96.853,
          -76.201,
          -81.755,
          -77.458,
          -80.094,
          -77.037,
          -118.358,
          -82.214,
          -71.426,
          -157.922,
          -76.671,
          -93.657,
          -156.434,
          -80.152,
          -86.756,
          -149.985,
          -85.524,
          -81.202,
          -121.941,
          -80.039,
          -106.606,
          -118.151,
          -159.346,
          -95.89,
          -116.225,
          -117.601,
          -66.002
         ],
         "text": [
          "McCarran International",
          "Newark Liberty International",
          "Logan International",
          "LaGuardia",
          "Phoenix Sky Harbor International",
          "Orlando International",
          "Detroit Metro Wayne County",
          "Dallas Fort Worth Regional",
          "Louis Armstrong New Orleans International",
          "Atlanta Municipal",
          "John F. Kennedy International",
          "Chicago Midway International",
          "Tucson International",
          "Douglas Municipal",
          "Nashville International",
          "Jacksonville International",
          "Seattle International",
          "Chicago O'Hare International",
          "Miami International",
          "San Diego International Lindbergh Fl",
          "Cleveland-Hopkins International",
          "Portland International",
          "Standiford Field",
          "Los Angeles International",
          "Will Rogers World",
          "San Francisco International",
          "Philadelphia International",
          "Keahole",
          "Stapleton International",
          "Cincinnati/Northern Kentucky International",
          "Palm Springs International",
          "McGhee Tyson",
          "Raleigh-Durham International",
          "Pittsburgh International",
          "Tampa International",
          "Minneapolis-St Paul International",
          "Memphis International",
          "Orange County",
          "Bradley International",
          "Port Columbus International",
          "Sacramento International",
          "Piedmont Triad International",
          "William P Hobby",
          "Metropolitan Oakland International",
          "Houston Intercontinental",
          "Kansas City International",
          "Salt Lake City International",
          "Richmond International",
          "General Mitchell Field",
          "Lambert-St. Louis International",
          "Indianapolis Muni/Weir Cook",
          "Austin - Bergstrom International",
          "Reno/Tahoe International",
          "Greater Buffalo International",
          "Eppley Airfield",
          "El Paso International",
          "San Antonio International",
          "Dallas Love Field",
          "Norfolk International",
          "Southwest Florida International",
          "Washington Dulles International",
          "Palm Beach International",
          "Ronald Reagan Washington National",
          "Hollywood-Burbank Midpoint",
          "Greenville-Spartanburg",
          "Theodore Francis Green State",
          "Honolulu International",
          "Friendship International",
          "Des Moines Municipal",
          "Kahului Airport",
          "Fort Lauderdale-Hollywood International",
          "Birmingham Airport",
          "Anchorage International",
          "Kent County",
          "Savannah/Hilton Head International",
          "San Jose International",
          "Charleston International",
          "Albuquerque International Sunport",
          "Long Beach Daugherty Field",
          "Lihue Airport",
          "Tulsa International",
          "Boise Air Terminal",
          "Ontario International",
          "Puerto Rico International"
         ],
         "type": "scattergeo"
        }
       ],
       "layout": {
        "geo": {
         "scope": "north america"
        },
        "template": {
         "data": {
          "bar": [
           {
            "error_x": {
             "color": "#2a3f5f"
            },
            "error_y": {
             "color": "#2a3f5f"
            },
            "marker": {
             "line": {
              "color": "#E5ECF6",
              "width": 0.5
             },
             "pattern": {
              "fillmode": "overlay",
              "size": 10,
              "solidity": 0.2
             }
            },
            "type": "bar"
           }
          ],
          "barpolar": [
           {
            "marker": {
             "line": {
              "color": "#E5ECF6",
              "width": 0.5
             },
             "pattern": {
              "fillmode": "overlay",
              "size": 10,
              "solidity": 0.2
             }
            },
            "type": "barpolar"
           }
          ],
          "carpet": [
           {
            "aaxis": {
             "endlinecolor": "#2a3f5f",
             "gridcolor": "white",
             "linecolor": "white",
             "minorgridcolor": "white",
             "startlinecolor": "#2a3f5f"
            },
            "baxis": {
             "endlinecolor": "#2a3f5f",
             "gridcolor": "white",
             "linecolor": "white",
             "minorgridcolor": "white",
             "startlinecolor": "#2a3f5f"
            },
            "type": "carpet"
           }
          ],
          "choropleth": [
           {
            "colorbar": {
             "outlinewidth": 0,
             "ticks": ""
            },
            "type": "choropleth"
           }
          ],
          "contour": [
           {
            "colorbar": {
             "outlinewidth": 0,
             "ticks": ""
            },
            "colorscale": [
             [
              0,
              "#0d0887"
             ],
             [
              0.1111111111111111,
              "#46039f"
             ],
             [
              0.2222222222222222,
              "#7201a8"
             ],
             [
              0.3333333333333333,
              "#9c179e"
             ],
             [
              0.4444444444444444,
              "#bd3786"
             ],
             [
              0.5555555555555556,
              "#d8576b"
             ],
             [
              0.6666666666666666,
              "#ed7953"
             ],
             [
              0.7777777777777778,
              "#fb9f3a"
             ],
             [
              0.8888888888888888,
              "#fdca26"
             ],
             [
              1,
              "#f0f921"
             ]
            ],
            "type": "contour"
           }
          ],
          "contourcarpet": [
           {
            "colorbar": {
             "outlinewidth": 0,
             "ticks": ""
            },
            "type": "contourcarpet"
           }
          ],
          "heatmap": [
           {
            "colorbar": {
             "outlinewidth": 0,
             "ticks": ""
            },
            "colorscale": [
             [
              0,
              "#0d0887"
             ],
             [
              0.1111111111111111,
              "#46039f"
             ],
             [
              0.2222222222222222,
              "#7201a8"
             ],
             [
              0.3333333333333333,
              "#9c179e"
             ],
             [
              0.4444444444444444,
              "#bd3786"
             ],
             [
              0.5555555555555556,
              "#d8576b"
             ],
             [
              0.6666666666666666,
              "#ed7953"
             ],
             [
              0.7777777777777778,
              "#fb9f3a"
             ],
             [
              0.8888888888888888,
              "#fdca26"
             ],
             [
              1,
              "#f0f921"
             ]
            ],
            "type": "heatmap"
           }
          ],
          "heatmapgl": [
           {
            "colorbar": {
             "outlinewidth": 0,
             "ticks": ""
            },
            "colorscale": [
             [
              0,
              "#0d0887"
             ],
             [
              0.1111111111111111,
              "#46039f"
             ],
             [
              0.2222222222222222,
              "#7201a8"
             ],
             [
              0.3333333333333333,
              "#9c179e"
             ],
             [
              0.4444444444444444,
              "#bd3786"
             ],
             [
              0.5555555555555556,
              "#d8576b"
             ],
             [
              0.6666666666666666,
              "#ed7953"
             ],
             [
              0.7777777777777778,
              "#fb9f3a"
             ],
             [
              0.8888888888888888,
              "#fdca26"
             ],
             [
              1,
              "#f0f921"
             ]
            ],
            "type": "heatmapgl"
           }
          ],
          "histogram": [
           {
            "marker": {
             "pattern": {
              "fillmode": "overlay",
              "size": 10,
              "solidity": 0.2
             }
            },
            "type": "histogram"
           }
          ],
          "histogram2d": [
           {
            "colorbar": {
             "outlinewidth": 0,
             "ticks": ""
            },
            "colorscale": [
             [
              0,
              "#0d0887"
             ],
             [
              0.1111111111111111,
              "#46039f"
             ],
             [
              0.2222222222222222,
              "#7201a8"
             ],
             [
              0.3333333333333333,
              "#9c179e"
             ],
             [
              0.4444444444444444,
              "#bd3786"
             ],
             [
              0.5555555555555556,
              "#d8576b"
             ],
             [
              0.6666666666666666,
              "#ed7953"
             ],
             [
              0.7777777777777778,
              "#fb9f3a"
             ],
             [
              0.8888888888888888,
              "#fdca26"
             ],
             [
              1,
              "#f0f921"
             ]
            ],
            "type": "histogram2d"
           }
          ],
          "histogram2dcontour": [
           {
            "colorbar": {
             "outlinewidth": 0,
             "ticks": ""
            },
            "colorscale": [
             [
              0,
              "#0d0887"
             ],
             [
              0.1111111111111111,
              "#46039f"
             ],
             [
              0.2222222222222222,
              "#7201a8"
             ],
             [
              0.3333333333333333,
              "#9c179e"
             ],
             [
              0.4444444444444444,
              "#bd3786"
             ],
             [
              0.5555555555555556,
              "#d8576b"
             ],
             [
              0.6666666666666666,
              "#ed7953"
             ],
             [
              0.7777777777777778,
              "#fb9f3a"
             ],
             [
              0.8888888888888888,
              "#fdca26"
             ],
             [
              1,
              "#f0f921"
             ]
            ],
            "type": "histogram2dcontour"
           }
          ],
          "mesh3d": [
           {
            "colorbar": {
             "outlinewidth": 0,
             "ticks": ""
            },
            "type": "mesh3d"
           }
          ],
          "parcoords": [
           {
            "line": {
             "colorbar": {
              "outlinewidth": 0,
              "ticks": ""
             }
            },
            "type": "parcoords"
           }
          ],
          "pie": [
           {
            "automargin": true,
            "type": "pie"
           }
          ],
          "scatter": [
           {
            "marker": {
             "colorbar": {
              "outlinewidth": 0,
              "ticks": ""
             }
            },
            "type": "scatter"
           }
          ],
          "scatter3d": [
           {
            "line": {
             "colorbar": {
              "outlinewidth": 0,
              "ticks": ""
             }
            },
            "marker": {
             "colorbar": {
              "outlinewidth": 0,
              "ticks": ""
             }
            },
            "type": "scatter3d"
           }
          ],
          "scattercarpet": [
           {
            "marker": {
             "colorbar": {
              "outlinewidth": 0,
              "ticks": ""
             }
            },
            "type": "scattercarpet"
           }
          ],
          "scattergeo": [
           {
            "marker": {
             "colorbar": {
              "outlinewidth": 0,
              "ticks": ""
             }
            },
            "type": "scattergeo"
           }
          ],
          "scattergl": [
           {
            "marker": {
             "colorbar": {
              "outlinewidth": 0,
              "ticks": ""
             }
            },
            "type": "scattergl"
           }
          ],
          "scattermapbox": [
           {
            "marker": {
             "colorbar": {
              "outlinewidth": 0,
              "ticks": ""
             }
            },
            "type": "scattermapbox"
           }
          ],
          "scatterpolar": [
           {
            "marker": {
             "colorbar": {
              "outlinewidth": 0,
              "ticks": ""
             }
            },
            "type": "scatterpolar"
           }
          ],
          "scatterpolargl": [
           {
            "marker": {
             "colorbar": {
              "outlinewidth": 0,
              "ticks": ""
             }
            },
            "type": "scatterpolargl"
           }
          ],
          "scatterternary": [
           {
            "marker": {
             "colorbar": {
              "outlinewidth": 0,
              "ticks": ""
             }
            },
            "type": "scatterternary"
           }
          ],
          "surface": [
           {
            "colorbar": {
             "outlinewidth": 0,
             "ticks": ""
            },
            "colorscale": [
             [
              0,
              "#0d0887"
             ],
             [
              0.1111111111111111,
              "#46039f"
             ],
             [
              0.2222222222222222,
              "#7201a8"
             ],
             [
              0.3333333333333333,
              "#9c179e"
             ],
             [
              0.4444444444444444,
              "#bd3786"
             ],
             [
              0.5555555555555556,
              "#d8576b"
             ],
             [
              0.6666666666666666,
              "#ed7953"
             ],
             [
              0.7777777777777778,
              "#fb9f3a"
             ],
             [
              0.8888888888888888,
              "#fdca26"
             ],
             [
              1,
              "#f0f921"
             ]
            ],
            "type": "surface"
           }
          ],
          "table": [
           {
            "cells": {
             "fill": {
              "color": "#EBF0F8"
             },
             "line": {
              "color": "white"
             }
            },
            "header": {
             "fill": {
              "color": "#C8D4E3"
             },
             "line": {
              "color": "white"
             }
            },
            "type": "table"
           }
          ]
         },
         "layout": {
          "annotationdefaults": {
           "arrowcolor": "#2a3f5f",
           "arrowhead": 0,
           "arrowwidth": 1
          },
          "autotypenumbers": "strict",
          "coloraxis": {
           "colorbar": {
            "outlinewidth": 0,
            "ticks": ""
           }
          },
          "colorscale": {
           "diverging": [
            [
             0,
             "#8e0152"
            ],
            [
             0.1,
             "#c51b7d"
            ],
            [
             0.2,
             "#de77ae"
            ],
            [
             0.3,
             "#f1b6da"
            ],
            [
             0.4,
             "#fde0ef"
            ],
            [
             0.5,
             "#f7f7f7"
            ],
            [
             0.6,
             "#e6f5d0"
            ],
            [
             0.7,
             "#b8e186"
            ],
            [
             0.8,
             "#7fbc41"
            ],
            [
             0.9,
             "#4d9221"
            ],
            [
             1,
             "#276419"
            ]
           ],
           "sequential": [
            [
             0,
             "#0d0887"
            ],
            [
             0.1111111111111111,
             "#46039f"
            ],
            [
             0.2222222222222222,
             "#7201a8"
            ],
            [
             0.3333333333333333,
             "#9c179e"
            ],
            [
             0.4444444444444444,
             "#bd3786"
            ],
            [
             0.5555555555555556,
             "#d8576b"
            ],
            [
             0.6666666666666666,
             "#ed7953"
            ],
            [
             0.7777777777777778,
             "#fb9f3a"
            ],
            [
             0.8888888888888888,
             "#fdca26"
            ],
            [
             1,
             "#f0f921"
            ]
           ],
           "sequentialminus": [
            [
             0,
             "#0d0887"
            ],
            [
             0.1111111111111111,
             "#46039f"
            ],
            [
             0.2222222222222222,
             "#7201a8"
            ],
            [
             0.3333333333333333,
             "#9c179e"
            ],
            [
             0.4444444444444444,
             "#bd3786"
            ],
            [
             0.5555555555555556,
             "#d8576b"
            ],
            [
             0.6666666666666666,
             "#ed7953"
            ],
            [
             0.7777777777777778,
             "#fb9f3a"
            ],
            [
             0.8888888888888888,
             "#fdca26"
            ],
            [
             1,
             "#f0f921"
            ]
           ]
          },
          "colorway": [
           "#636efa",
           "#EF553B",
           "#00cc96",
           "#ab63fa",
           "#FFA15A",
           "#19d3f3",
           "#FF6692",
           "#B6E880",
           "#FF97FF",
           "#FECB52"
          ],
          "font": {
           "color": "#2a3f5f"
          },
          "geo": {
           "bgcolor": "white",
           "lakecolor": "white",
           "landcolor": "#E5ECF6",
           "showlakes": true,
           "showland": true,
           "subunitcolor": "white"
          },
          "hoverlabel": {
           "align": "left"
          },
          "hovermode": "closest",
          "mapbox": {
           "style": "light"
          },
          "paper_bgcolor": "white",
          "plot_bgcolor": "#E5ECF6",
          "polar": {
           "angularaxis": {
            "gridcolor": "white",
            "linecolor": "white",
            "ticks": ""
           },
           "bgcolor": "#E5ECF6",
           "radialaxis": {
            "gridcolor": "white",
            "linecolor": "white",
            "ticks": ""
           }
          },
          "scene": {
           "xaxis": {
            "backgroundcolor": "#E5ECF6",
            "gridcolor": "white",
            "gridwidth": 2,
            "linecolor": "white",
            "showbackground": true,
            "ticks": "",
            "zerolinecolor": "white"
           },
           "yaxis": {
            "backgroundcolor": "#E5ECF6",
            "gridcolor": "white",
            "gridwidth": 2,
            "linecolor": "white",
            "showbackground": true,
            "ticks": "",
            "zerolinecolor": "white"
           },
           "zaxis": {
            "backgroundcolor": "#E5ECF6",
            "gridcolor": "white",
            "gridwidth": 2,
            "linecolor": "white",
            "showbackground": true,
            "ticks": "",
            "zerolinecolor": "white"
           }
          },
          "shapedefaults": {
           "line": {
            "color": "#2a3f5f"
           }
          },
          "ternary": {
           "aaxis": {
            "gridcolor": "white",
            "linecolor": "white",
            "ticks": ""
           },
           "baxis": {
            "gridcolor": "white",
            "linecolor": "white",
            "ticks": ""
           },
           "bgcolor": "#E5ECF6",
           "caxis": {
            "gridcolor": "white",
            "linecolor": "white",
            "ticks": ""
           }
          },
          "title": {
           "x": 0.05
          },
          "xaxis": {
           "automargin": true,
           "gridcolor": "white",
           "linecolor": "white",
           "ticks": "",
           "title": {
            "standoff": 15
           },
           "zerolinecolor": "white",
           "zerolinewidth": 2
          },
          "yaxis": {
           "automargin": true,
           "gridcolor": "white",
           "linecolor": "white",
           "ticks": "",
           "title": {
            "standoff": 15
           },
           "zerolinecolor": "white",
           "zerolinewidth": 2
          }
         }
        },
        "title": {
         "text": "Airports of the US"
        }
       }
      },
      "text/html": [
       "<div>                            <div id=\"987b387c-cd8d-4e82-879e-001e1e387e99\" class=\"plotly-graph-div\" style=\"height:525px; width:100%;\"></div>            <script type=\"text/javascript\">                require([\"plotly\"], function(Plotly) {                    window.PLOTLYENV=window.PLOTLYENV || {};                                    if (document.getElementById(\"987b387c-cd8d-4e82-879e-001e1e387e99\")) {                    Plotly.newPlot(                        \"987b387c-cd8d-4e82-879e-001e1e387e99\",                        [{\"lat\":[36.08,40.696,42.364,40.779,33.436,28.432,42.217,32.894,29.991,33.641,40.639,41.785,32.116,35.219,36.127,30.485,47.447,41.978,25.792,32.733,41.411,45.589,38.18,33.942,35.392,37.619,39.868,19.739,39.774,39.048,33.827,35.812,35.875,40.497,27.973,44.886,35.05,33.676,41.939,39.991,38.696,36.092,29.645,37.721,29.983,39.298,40.784,37.505,42.95,38.747,39.729,30.194,39.498,42.941,41.302,31.807,29.533,32.847,36.896,26.536,38.942,26.682,38.852,34.2,34.899,41.728,21.319,39.176,41.534,20.901,26.074,33.563,61.169,42.881,32.127,37.363,32.899,35.042,33.818,21.979,36.198,43.565,34.056,18.44],\"lon\":[-115.152,-74.172,-71.006,-73.876,-112.009,-81.325,-83.344,-97.03,-90.251,-84.427,-73.777,-87.752,-110.941,-80.936,-86.682,-81.688,-122.306,-87.906,-80.286,-117.187,-81.849,-122.595,-85.739,-118.408,-97.602,-122.375,-75.249,-156.046,-104.88,-84.669,-116.505,-83.992,-78.782,-80.236,-82.535,-93.218,-89.979,-117.867,-72.683,-82.878,-121.59,-79.943,-95.279,-122.221,-95.34,-94.714,-111.967,-77.32,-87.897,-90.364,-86.282,-97.67,-119.768,-78.736,-95.893,-106.377,-98.469,-96.853,-76.201,-81.755,-77.458,-80.094,-77.037,-118.358,-82.214,-71.426,-157.922,-76.671,-93.657,-156.434,-80.152,-86.756,-149.985,-85.524,-81.202,-121.941,-80.039,-106.606,-118.151,-159.346,-95.89,-116.225,-117.601,-66.002],\"text\":[\"McCarran International\",\"Newark Liberty International\",\"Logan International\",\"LaGuardia\",\"Phoenix Sky Harbor International\",\"Orlando International\",\"Detroit Metro Wayne County\",\"Dallas Fort Worth Regional\",\"Louis Armstrong New Orleans International\",\"Atlanta Municipal\",\"John F. Kennedy International\",\"Chicago Midway International\",\"Tucson International\",\"Douglas Municipal\",\"Nashville International\",\"Jacksonville International\",\"Seattle International\",\"Chicago O'Hare International\",\"Miami International\",\"San Diego International Lindbergh Fl\",\"Cleveland-Hopkins International\",\"Portland International\",\"Standiford Field\",\"Los Angeles International\",\"Will Rogers World\",\"San Francisco International\",\"Philadelphia International\",\"Keahole\",\"Stapleton International\",\"Cincinnati/Northern Kentucky International\",\"Palm Springs International\",\"McGhee Tyson\",\"Raleigh-Durham International\",\"Pittsburgh International\",\"Tampa International\",\"Minneapolis-St Paul International\",\"Memphis International\",\"Orange County\",\"Bradley International\",\"Port Columbus International\",\"Sacramento International\",\"Piedmont Triad International\",\"William P Hobby\",\"Metropolitan Oakland International\",\"Houston Intercontinental\",\"Kansas City International\",\"Salt Lake City International\",\"Richmond International\",\"General Mitchell Field\",\"Lambert-St. Louis International\",\"Indianapolis Muni/Weir Cook\",\"Austin - Bergstrom International\",\"Reno/Tahoe International\",\"Greater Buffalo International\",\"Eppley Airfield\",\"El Paso International\",\"San Antonio International\",\"Dallas Love Field\",\"Norfolk International\",\"Southwest Florida International\",\"Washington Dulles International\",\"Palm Beach International\",\"Ronald Reagan Washington National\",\"Hollywood-Burbank Midpoint\",\"Greenville-Spartanburg\",\"Theodore Francis Green State\",\"Honolulu International\",\"Friendship International\",\"Des Moines Municipal\",\"Kahului Airport\",\"Fort Lauderdale-Hollywood International\",\"Birmingham Airport\",\"Anchorage International\",\"Kent County\",\"Savannah/Hilton Head International\",\"San Jose International\",\"Charleston International\",\"Albuquerque International Sunport\",\"Long Beach Daugherty Field\",\"Lihue Airport\",\"Tulsa International\",\"Boise Air Terminal\",\"Ontario International\",\"Puerto Rico International\"],\"type\":\"scattergeo\"}],                        {\"template\":{\"data\":{\"bar\":[{\"error_x\":{\"color\":\"#2a3f5f\"},\"error_y\":{\"color\":\"#2a3f5f\"},\"marker\":{\"line\":{\"color\":\"#E5ECF6\",\"width\":0.5},\"pattern\":{\"fillmode\":\"overlay\",\"size\":10,\"solidity\":0.2}},\"type\":\"bar\"}],\"barpolar\":[{\"marker\":{\"line\":{\"color\":\"#E5ECF6\",\"width\":0.5},\"pattern\":{\"fillmode\":\"overlay\",\"size\":10,\"solidity\":0.2}},\"type\":\"barpolar\"}],\"carpet\":[{\"aaxis\":{\"endlinecolor\":\"#2a3f5f\",\"gridcolor\":\"white\",\"linecolor\":\"white\",\"minorgridcolor\":\"white\",\"startlinecolor\":\"#2a3f5f\"},\"baxis\":{\"endlinecolor\":\"#2a3f5f\",\"gridcolor\":\"white\",\"linecolor\":\"white\",\"minorgridcolor\":\"white\",\"startlinecolor\":\"#2a3f5f\"},\"type\":\"carpet\"}],\"choropleth\":[{\"colorbar\":{\"outlinewidth\":0,\"ticks\":\"\"},\"type\":\"choropleth\"}],\"contour\":[{\"colorbar\":{\"outlinewidth\":0,\"ticks\":\"\"},\"colorscale\":[[0.0,\"#0d0887\"],[0.1111111111111111,\"#46039f\"],[0.2222222222222222,\"#7201a8\"],[0.3333333333333333,\"#9c179e\"],[0.4444444444444444,\"#bd3786\"],[0.5555555555555556,\"#d8576b\"],[0.6666666666666666,\"#ed7953\"],[0.7777777777777778,\"#fb9f3a\"],[0.8888888888888888,\"#fdca26\"],[1.0,\"#f0f921\"]],\"type\":\"contour\"}],\"contourcarpet\":[{\"colorbar\":{\"outlinewidth\":0,\"ticks\":\"\"},\"type\":\"contourcarpet\"}],\"heatmap\":[{\"colorbar\":{\"outlinewidth\":0,\"ticks\":\"\"},\"colorscale\":[[0.0,\"#0d0887\"],[0.1111111111111111,\"#46039f\"],[0.2222222222222222,\"#7201a8\"],[0.3333333333333333,\"#9c179e\"],[0.4444444444444444,\"#bd3786\"],[0.5555555555555556,\"#d8576b\"],[0.6666666666666666,\"#ed7953\"],[0.7777777777777778,\"#fb9f3a\"],[0.8888888888888888,\"#fdca26\"],[1.0,\"#f0f921\"]],\"type\":\"heatmap\"}],\"heatmapgl\":[{\"colorbar\":{\"outlinewidth\":0,\"ticks\":\"\"},\"colorscale\":[[0.0,\"#0d0887\"],[0.1111111111111111,\"#46039f\"],[0.2222222222222222,\"#7201a8\"],[0.3333333333333333,\"#9c179e\"],[0.4444444444444444,\"#bd3786\"],[0.5555555555555556,\"#d8576b\"],[0.6666666666666666,\"#ed7953\"],[0.7777777777777778,\"#fb9f3a\"],[0.8888888888888888,\"#fdca26\"],[1.0,\"#f0f921\"]],\"type\":\"heatmapgl\"}],\"histogram\":[{\"marker\":{\"pattern\":{\"fillmode\":\"overlay\",\"size\":10,\"solidity\":0.2}},\"type\":\"histogram\"}],\"histogram2d\":[{\"colorbar\":{\"outlinewidth\":0,\"ticks\":\"\"},\"colorscale\":[[0.0,\"#0d0887\"],[0.1111111111111111,\"#46039f\"],[0.2222222222222222,\"#7201a8\"],[0.3333333333333333,\"#9c179e\"],[0.4444444444444444,\"#bd3786\"],[0.5555555555555556,\"#d8576b\"],[0.6666666666666666,\"#ed7953\"],[0.7777777777777778,\"#fb9f3a\"],[0.8888888888888888,\"#fdca26\"],[1.0,\"#f0f921\"]],\"type\":\"histogram2d\"}],\"histogram2dcontour\":[{\"colorbar\":{\"outlinewidth\":0,\"ticks\":\"\"},\"colorscale\":[[0.0,\"#0d0887\"],[0.1111111111111111,\"#46039f\"],[0.2222222222222222,\"#7201a8\"],[0.3333333333333333,\"#9c179e\"],[0.4444444444444444,\"#bd3786\"],[0.5555555555555556,\"#d8576b\"],[0.6666666666666666,\"#ed7953\"],[0.7777777777777778,\"#fb9f3a\"],[0.8888888888888888,\"#fdca26\"],[1.0,\"#f0f921\"]],\"type\":\"histogram2dcontour\"}],\"mesh3d\":[{\"colorbar\":{\"outlinewidth\":0,\"ticks\":\"\"},\"type\":\"mesh3d\"}],\"parcoords\":[{\"line\":{\"colorbar\":{\"outlinewidth\":0,\"ticks\":\"\"}},\"type\":\"parcoords\"}],\"pie\":[{\"automargin\":true,\"type\":\"pie\"}],\"scatter\":[{\"marker\":{\"colorbar\":{\"outlinewidth\":0,\"ticks\":\"\"}},\"type\":\"scatter\"}],\"scatter3d\":[{\"line\":{\"colorbar\":{\"outlinewidth\":0,\"ticks\":\"\"}},\"marker\":{\"colorbar\":{\"outlinewidth\":0,\"ticks\":\"\"}},\"type\":\"scatter3d\"}],\"scattercarpet\":[{\"marker\":{\"colorbar\":{\"outlinewidth\":0,\"ticks\":\"\"}},\"type\":\"scattercarpet\"}],\"scattergeo\":[{\"marker\":{\"colorbar\":{\"outlinewidth\":0,\"ticks\":\"\"}},\"type\":\"scattergeo\"}],\"scattergl\":[{\"marker\":{\"colorbar\":{\"outlinewidth\":0,\"ticks\":\"\"}},\"type\":\"scattergl\"}],\"scattermapbox\":[{\"marker\":{\"colorbar\":{\"outlinewidth\":0,\"ticks\":\"\"}},\"type\":\"scattermapbox\"}],\"scatterpolar\":[{\"marker\":{\"colorbar\":{\"outlinewidth\":0,\"ticks\":\"\"}},\"type\":\"scatterpolar\"}],\"scatterpolargl\":[{\"marker\":{\"colorbar\":{\"outlinewidth\":0,\"ticks\":\"\"}},\"type\":\"scatterpolargl\"}],\"scatterternary\":[{\"marker\":{\"colorbar\":{\"outlinewidth\":0,\"ticks\":\"\"}},\"type\":\"scatterternary\"}],\"surface\":[{\"colorbar\":{\"outlinewidth\":0,\"ticks\":\"\"},\"colorscale\":[[0.0,\"#0d0887\"],[0.1111111111111111,\"#46039f\"],[0.2222222222222222,\"#7201a8\"],[0.3333333333333333,\"#9c179e\"],[0.4444444444444444,\"#bd3786\"],[0.5555555555555556,\"#d8576b\"],[0.6666666666666666,\"#ed7953\"],[0.7777777777777778,\"#fb9f3a\"],[0.8888888888888888,\"#fdca26\"],[1.0,\"#f0f921\"]],\"type\":\"surface\"}],\"table\":[{\"cells\":{\"fill\":{\"color\":\"#EBF0F8\"},\"line\":{\"color\":\"white\"}},\"header\":{\"fill\":{\"color\":\"#C8D4E3\"},\"line\":{\"color\":\"white\"}},\"type\":\"table\"}]},\"layout\":{\"annotationdefaults\":{\"arrowcolor\":\"#2a3f5f\",\"arrowhead\":0,\"arrowwidth\":1},\"autotypenumbers\":\"strict\",\"coloraxis\":{\"colorbar\":{\"outlinewidth\":0,\"ticks\":\"\"}},\"colorscale\":{\"diverging\":[[0,\"#8e0152\"],[0.1,\"#c51b7d\"],[0.2,\"#de77ae\"],[0.3,\"#f1b6da\"],[0.4,\"#fde0ef\"],[0.5,\"#f7f7f7\"],[0.6,\"#e6f5d0\"],[0.7,\"#b8e186\"],[0.8,\"#7fbc41\"],[0.9,\"#4d9221\"],[1,\"#276419\"]],\"sequential\":[[0.0,\"#0d0887\"],[0.1111111111111111,\"#46039f\"],[0.2222222222222222,\"#7201a8\"],[0.3333333333333333,\"#9c179e\"],[0.4444444444444444,\"#bd3786\"],[0.5555555555555556,\"#d8576b\"],[0.6666666666666666,\"#ed7953\"],[0.7777777777777778,\"#fb9f3a\"],[0.8888888888888888,\"#fdca26\"],[1.0,\"#f0f921\"]],\"sequentialminus\":[[0.0,\"#0d0887\"],[0.1111111111111111,\"#46039f\"],[0.2222222222222222,\"#7201a8\"],[0.3333333333333333,\"#9c179e\"],[0.4444444444444444,\"#bd3786\"],[0.5555555555555556,\"#d8576b\"],[0.6666666666666666,\"#ed7953\"],[0.7777777777777778,\"#fb9f3a\"],[0.8888888888888888,\"#fdca26\"],[1.0,\"#f0f921\"]]},\"colorway\":[\"#636efa\",\"#EF553B\",\"#00cc96\",\"#ab63fa\",\"#FFA15A\",\"#19d3f3\",\"#FF6692\",\"#B6E880\",\"#FF97FF\",\"#FECB52\"],\"font\":{\"color\":\"#2a3f5f\"},\"geo\":{\"bgcolor\":\"white\",\"lakecolor\":\"white\",\"landcolor\":\"#E5ECF6\",\"showlakes\":true,\"showland\":true,\"subunitcolor\":\"white\"},\"hoverlabel\":{\"align\":\"left\"},\"hovermode\":\"closest\",\"mapbox\":{\"style\":\"light\"},\"paper_bgcolor\":\"white\",\"plot_bgcolor\":\"#E5ECF6\",\"polar\":{\"angularaxis\":{\"gridcolor\":\"white\",\"linecolor\":\"white\",\"ticks\":\"\"},\"bgcolor\":\"#E5ECF6\",\"radialaxis\":{\"gridcolor\":\"white\",\"linecolor\":\"white\",\"ticks\":\"\"}},\"scene\":{\"xaxis\":{\"backgroundcolor\":\"#E5ECF6\",\"gridcolor\":\"white\",\"gridwidth\":2,\"linecolor\":\"white\",\"showbackground\":true,\"ticks\":\"\",\"zerolinecolor\":\"white\"},\"yaxis\":{\"backgroundcolor\":\"#E5ECF6\",\"gridcolor\":\"white\",\"gridwidth\":2,\"linecolor\":\"white\",\"showbackground\":true,\"ticks\":\"\",\"zerolinecolor\":\"white\"},\"zaxis\":{\"backgroundcolor\":\"#E5ECF6\",\"gridcolor\":\"white\",\"gridwidth\":2,\"linecolor\":\"white\",\"showbackground\":true,\"ticks\":\"\",\"zerolinecolor\":\"white\"}},\"shapedefaults\":{\"line\":{\"color\":\"#2a3f5f\"}},\"ternary\":{\"aaxis\":{\"gridcolor\":\"white\",\"linecolor\":\"white\",\"ticks\":\"\"},\"baxis\":{\"gridcolor\":\"white\",\"linecolor\":\"white\",\"ticks\":\"\"},\"bgcolor\":\"#E5ECF6\",\"caxis\":{\"gridcolor\":\"white\",\"linecolor\":\"white\",\"ticks\":\"\"}},\"title\":{\"x\":0.05},\"xaxis\":{\"automargin\":true,\"gridcolor\":\"white\",\"linecolor\":\"white\",\"ticks\":\"\",\"title\":{\"standoff\":15},\"zerolinecolor\":\"white\",\"zerolinewidth\":2},\"yaxis\":{\"automargin\":true,\"gridcolor\":\"white\",\"linecolor\":\"white\",\"ticks\":\"\",\"title\":{\"standoff\":15},\"zerolinecolor\":\"white\",\"zerolinewidth\":2}}},\"geo\":{\"scope\":\"north america\"},\"title\":{\"text\":\"Airports of the US\"}},                        {\"responsive\": true}                    ).then(function(){\n",
       "                            \n",
       "var gd = document.getElementById('987b387c-cd8d-4e82-879e-001e1e387e99');\n",
       "var x = new MutationObserver(function (mutations, observer) {{\n",
       "        var display = window.getComputedStyle(gd).display;\n",
       "        if (!display || display === 'none') {{\n",
       "            console.log([gd, 'removed!']);\n",
       "            Plotly.purge(gd);\n",
       "            observer.disconnect();\n",
       "        }}\n",
       "}});\n",
       "\n",
       "// Listen for the removal of the full notebook cells\n",
       "var notebookContainer = gd.closest('#notebook-container');\n",
       "if (notebookContainer) {{\n",
       "    x.observe(notebookContainer, {childList: true});\n",
       "}}\n",
       "\n",
       "// Listen for the clearing of the current output cell\n",
       "var outputEl = gd.closest('.output');\n",
       "if (outputEl) {{\n",
       "    x.observe(outputEl, {childList: true});\n",
       "}}\n",
       "\n",
       "                        })                };                });            </script>        </div>"
      ]
     },
     "metadata": {},
     "output_type": "display_data"
    }
   ],
   "source": [
    "import plotly.graph_objects as go\n",
    "#latlon['txt'] = latlon['AIRPORT_FLIGHTS_MONTH'] + '' + latlon['AIRPORT_FLIGHTS_MONTH'].astype(str)\n",
    "fig = go.Figure(data = go.Scattergeo(lon = latlon['LONGITUDE'], \n",
    "                                     lat = latlon['LATITUDE'], \n",
    "                                     text = latlon['DEPARTING_AIRPORT'] ))\n",
    "                                     #,  \n",
    "                                     #mode = 'markers',\n",
    "                                     #marker_color = latlon['AIRPORT_FLIGHTS_MONTH']\n",
    "                                    #))\n",
    "fig.update_layout(title = 'Airports of the US', geo_scope = 'north america')\n",
    "fig.show()"
   ]
  },
  {
   "cell_type": "code",
   "execution_count": 5,
   "id": "6d2fe51d",
   "metadata": {},
   "outputs": [
    {
     "data": {
      "application/vnd.plotly.v1+json": {
       "config": {
        "plotlyServerURL": "https://plot.ly"
       },
       "data": [
        {
         "lat": [
          36.08,
          40.696,
          42.364,
          40.779,
          33.436,
          28.432,
          42.217,
          32.894,
          29.991,
          33.641,
          40.639,
          41.785,
          32.116,
          35.219,
          36.127,
          30.485,
          47.447,
          41.978,
          25.792,
          32.733,
          41.411,
          45.589,
          38.18,
          33.942,
          35.392,
          37.619,
          39.868,
          19.739,
          39.774,
          39.048,
          33.827,
          35.812,
          35.875,
          40.497,
          27.973,
          44.886,
          35.05,
          33.676,
          41.939,
          39.991,
          38.696,
          36.092,
          29.645,
          37.721,
          29.983,
          39.298,
          40.784,
          37.505,
          42.95,
          38.747,
          39.729,
          30.194,
          39.498,
          42.941,
          41.302,
          31.807,
          29.533,
          32.847,
          36.896,
          26.536,
          38.942,
          26.682,
          38.852,
          34.2,
          34.899,
          41.728,
          21.319,
          39.176,
          41.534,
          20.901,
          26.074,
          33.563,
          61.169,
          42.881,
          32.127,
          37.363,
          32.899,
          35.042,
          33.818,
          21.979,
          36.198,
          43.565,
          34.056,
          18.44
         ],
         "lon": [
          -115.152,
          -74.172,
          -71.006,
          -73.876,
          -112.009,
          -81.325,
          -83.344,
          -97.03,
          -90.251,
          -84.427,
          -73.777,
          -87.752,
          -110.941,
          -80.936,
          -86.682,
          -81.688,
          -122.306,
          -87.906,
          -80.286,
          -117.187,
          -81.849,
          -122.595,
          -85.739,
          -118.408,
          -97.602,
          -122.375,
          -75.249,
          -156.046,
          -104.88,
          -84.669,
          -116.505,
          -83.992,
          -78.782,
          -80.236,
          -82.535,
          -93.218,
          -89.979,
          -117.867,
          -72.683,
          -82.878,
          -121.59,
          -79.943,
          -95.279,
          -122.221,
          -95.34,
          -94.714,
          -111.967,
          -77.32,
          -87.897,
          -90.364,
          -86.282,
          -97.67,
          -119.768,
          -78.736,
          -95.893,
          -106.377,
          -98.469,
          -96.853,
          -76.201,
          -81.755,
          -77.458,
          -80.094,
          -77.037,
          -118.358,
          -82.214,
          -71.426,
          -157.922,
          -76.671,
          -93.657,
          -156.434,
          -80.152,
          -86.756,
          -149.985,
          -85.524,
          -81.202,
          -121.941,
          -80.039,
          -106.606,
          -118.151,
          -159.346,
          -95.89,
          -116.225,
          -117.601,
          -66.002
         ],
         "text": [
          "McCarran International",
          "Newark Liberty International",
          "Logan International",
          "LaGuardia",
          "Phoenix Sky Harbor International",
          "Orlando International",
          "Detroit Metro Wayne County",
          "Dallas Fort Worth Regional",
          "Louis Armstrong New Orleans International",
          "Atlanta Municipal",
          "John F. Kennedy International",
          "Chicago Midway International",
          "Tucson International",
          "Douglas Municipal",
          "Nashville International",
          "Jacksonville International",
          "Seattle International",
          "Chicago O'Hare International",
          "Miami International",
          "San Diego International Lindbergh Fl",
          "Cleveland-Hopkins International",
          "Portland International",
          "Standiford Field",
          "Los Angeles International",
          "Will Rogers World",
          "San Francisco International",
          "Philadelphia International",
          "Keahole",
          "Stapleton International",
          "Cincinnati/Northern Kentucky International",
          "Palm Springs International",
          "McGhee Tyson",
          "Raleigh-Durham International",
          "Pittsburgh International",
          "Tampa International",
          "Minneapolis-St Paul International",
          "Memphis International",
          "Orange County",
          "Bradley International",
          "Port Columbus International",
          "Sacramento International",
          "Piedmont Triad International",
          "William P Hobby",
          "Metropolitan Oakland International",
          "Houston Intercontinental",
          "Kansas City International",
          "Salt Lake City International",
          "Richmond International",
          "General Mitchell Field",
          "Lambert-St. Louis International",
          "Indianapolis Muni/Weir Cook",
          "Austin - Bergstrom International",
          "Reno/Tahoe International",
          "Greater Buffalo International",
          "Eppley Airfield",
          "El Paso International",
          "San Antonio International",
          "Dallas Love Field",
          "Norfolk International",
          "Southwest Florida International",
          "Washington Dulles International",
          "Palm Beach International",
          "Ronald Reagan Washington National",
          "Hollywood-Burbank Midpoint",
          "Greenville-Spartanburg",
          "Theodore Francis Green State",
          "Honolulu International",
          "Friendship International",
          "Des Moines Municipal",
          "Kahului Airport",
          "Fort Lauderdale-Hollywood International",
          "Birmingham Airport",
          "Anchorage International",
          "Kent County",
          "Savannah/Hilton Head International",
          "San Jose International",
          "Charleston International",
          "Albuquerque International Sunport",
          "Long Beach Daugherty Field",
          "Lihue Airport",
          "Tulsa International",
          "Boise Air Terminal",
          "Ontario International",
          "Puerto Rico International"
         ],
         "type": "scattergeo"
        }
       ],
       "layout": {
        "geo": {
         "scope": "usa"
        },
        "template": {
         "data": {
          "bar": [
           {
            "error_x": {
             "color": "#2a3f5f"
            },
            "error_y": {
             "color": "#2a3f5f"
            },
            "marker": {
             "line": {
              "color": "#E5ECF6",
              "width": 0.5
             },
             "pattern": {
              "fillmode": "overlay",
              "size": 10,
              "solidity": 0.2
             }
            },
            "type": "bar"
           }
          ],
          "barpolar": [
           {
            "marker": {
             "line": {
              "color": "#E5ECF6",
              "width": 0.5
             },
             "pattern": {
              "fillmode": "overlay",
              "size": 10,
              "solidity": 0.2
             }
            },
            "type": "barpolar"
           }
          ],
          "carpet": [
           {
            "aaxis": {
             "endlinecolor": "#2a3f5f",
             "gridcolor": "white",
             "linecolor": "white",
             "minorgridcolor": "white",
             "startlinecolor": "#2a3f5f"
            },
            "baxis": {
             "endlinecolor": "#2a3f5f",
             "gridcolor": "white",
             "linecolor": "white",
             "minorgridcolor": "white",
             "startlinecolor": "#2a3f5f"
            },
            "type": "carpet"
           }
          ],
          "choropleth": [
           {
            "colorbar": {
             "outlinewidth": 0,
             "ticks": ""
            },
            "type": "choropleth"
           }
          ],
          "contour": [
           {
            "colorbar": {
             "outlinewidth": 0,
             "ticks": ""
            },
            "colorscale": [
             [
              0,
              "#0d0887"
             ],
             [
              0.1111111111111111,
              "#46039f"
             ],
             [
              0.2222222222222222,
              "#7201a8"
             ],
             [
              0.3333333333333333,
              "#9c179e"
             ],
             [
              0.4444444444444444,
              "#bd3786"
             ],
             [
              0.5555555555555556,
              "#d8576b"
             ],
             [
              0.6666666666666666,
              "#ed7953"
             ],
             [
              0.7777777777777778,
              "#fb9f3a"
             ],
             [
              0.8888888888888888,
              "#fdca26"
             ],
             [
              1,
              "#f0f921"
             ]
            ],
            "type": "contour"
           }
          ],
          "contourcarpet": [
           {
            "colorbar": {
             "outlinewidth": 0,
             "ticks": ""
            },
            "type": "contourcarpet"
           }
          ],
          "heatmap": [
           {
            "colorbar": {
             "outlinewidth": 0,
             "ticks": ""
            },
            "colorscale": [
             [
              0,
              "#0d0887"
             ],
             [
              0.1111111111111111,
              "#46039f"
             ],
             [
              0.2222222222222222,
              "#7201a8"
             ],
             [
              0.3333333333333333,
              "#9c179e"
             ],
             [
              0.4444444444444444,
              "#bd3786"
             ],
             [
              0.5555555555555556,
              "#d8576b"
             ],
             [
              0.6666666666666666,
              "#ed7953"
             ],
             [
              0.7777777777777778,
              "#fb9f3a"
             ],
             [
              0.8888888888888888,
              "#fdca26"
             ],
             [
              1,
              "#f0f921"
             ]
            ],
            "type": "heatmap"
           }
          ],
          "heatmapgl": [
           {
            "colorbar": {
             "outlinewidth": 0,
             "ticks": ""
            },
            "colorscale": [
             [
              0,
              "#0d0887"
             ],
             [
              0.1111111111111111,
              "#46039f"
             ],
             [
              0.2222222222222222,
              "#7201a8"
             ],
             [
              0.3333333333333333,
              "#9c179e"
             ],
             [
              0.4444444444444444,
              "#bd3786"
             ],
             [
              0.5555555555555556,
              "#d8576b"
             ],
             [
              0.6666666666666666,
              "#ed7953"
             ],
             [
              0.7777777777777778,
              "#fb9f3a"
             ],
             [
              0.8888888888888888,
              "#fdca26"
             ],
             [
              1,
              "#f0f921"
             ]
            ],
            "type": "heatmapgl"
           }
          ],
          "histogram": [
           {
            "marker": {
             "pattern": {
              "fillmode": "overlay",
              "size": 10,
              "solidity": 0.2
             }
            },
            "type": "histogram"
           }
          ],
          "histogram2d": [
           {
            "colorbar": {
             "outlinewidth": 0,
             "ticks": ""
            },
            "colorscale": [
             [
              0,
              "#0d0887"
             ],
             [
              0.1111111111111111,
              "#46039f"
             ],
             [
              0.2222222222222222,
              "#7201a8"
             ],
             [
              0.3333333333333333,
              "#9c179e"
             ],
             [
              0.4444444444444444,
              "#bd3786"
             ],
             [
              0.5555555555555556,
              "#d8576b"
             ],
             [
              0.6666666666666666,
              "#ed7953"
             ],
             [
              0.7777777777777778,
              "#fb9f3a"
             ],
             [
              0.8888888888888888,
              "#fdca26"
             ],
             [
              1,
              "#f0f921"
             ]
            ],
            "type": "histogram2d"
           }
          ],
          "histogram2dcontour": [
           {
            "colorbar": {
             "outlinewidth": 0,
             "ticks": ""
            },
            "colorscale": [
             [
              0,
              "#0d0887"
             ],
             [
              0.1111111111111111,
              "#46039f"
             ],
             [
              0.2222222222222222,
              "#7201a8"
             ],
             [
              0.3333333333333333,
              "#9c179e"
             ],
             [
              0.4444444444444444,
              "#bd3786"
             ],
             [
              0.5555555555555556,
              "#d8576b"
             ],
             [
              0.6666666666666666,
              "#ed7953"
             ],
             [
              0.7777777777777778,
              "#fb9f3a"
             ],
             [
              0.8888888888888888,
              "#fdca26"
             ],
             [
              1,
              "#f0f921"
             ]
            ],
            "type": "histogram2dcontour"
           }
          ],
          "mesh3d": [
           {
            "colorbar": {
             "outlinewidth": 0,
             "ticks": ""
            },
            "type": "mesh3d"
           }
          ],
          "parcoords": [
           {
            "line": {
             "colorbar": {
              "outlinewidth": 0,
              "ticks": ""
             }
            },
            "type": "parcoords"
           }
          ],
          "pie": [
           {
            "automargin": true,
            "type": "pie"
           }
          ],
          "scatter": [
           {
            "marker": {
             "colorbar": {
              "outlinewidth": 0,
              "ticks": ""
             }
            },
            "type": "scatter"
           }
          ],
          "scatter3d": [
           {
            "line": {
             "colorbar": {
              "outlinewidth": 0,
              "ticks": ""
             }
            },
            "marker": {
             "colorbar": {
              "outlinewidth": 0,
              "ticks": ""
             }
            },
            "type": "scatter3d"
           }
          ],
          "scattercarpet": [
           {
            "marker": {
             "colorbar": {
              "outlinewidth": 0,
              "ticks": ""
             }
            },
            "type": "scattercarpet"
           }
          ],
          "scattergeo": [
           {
            "marker": {
             "colorbar": {
              "outlinewidth": 0,
              "ticks": ""
             }
            },
            "type": "scattergeo"
           }
          ],
          "scattergl": [
           {
            "marker": {
             "colorbar": {
              "outlinewidth": 0,
              "ticks": ""
             }
            },
            "type": "scattergl"
           }
          ],
          "scattermapbox": [
           {
            "marker": {
             "colorbar": {
              "outlinewidth": 0,
              "ticks": ""
             }
            },
            "type": "scattermapbox"
           }
          ],
          "scatterpolar": [
           {
            "marker": {
             "colorbar": {
              "outlinewidth": 0,
              "ticks": ""
             }
            },
            "type": "scatterpolar"
           }
          ],
          "scatterpolargl": [
           {
            "marker": {
             "colorbar": {
              "outlinewidth": 0,
              "ticks": ""
             }
            },
            "type": "scatterpolargl"
           }
          ],
          "scatterternary": [
           {
            "marker": {
             "colorbar": {
              "outlinewidth": 0,
              "ticks": ""
             }
            },
            "type": "scatterternary"
           }
          ],
          "surface": [
           {
            "colorbar": {
             "outlinewidth": 0,
             "ticks": ""
            },
            "colorscale": [
             [
              0,
              "#0d0887"
             ],
             [
              0.1111111111111111,
              "#46039f"
             ],
             [
              0.2222222222222222,
              "#7201a8"
             ],
             [
              0.3333333333333333,
              "#9c179e"
             ],
             [
              0.4444444444444444,
              "#bd3786"
             ],
             [
              0.5555555555555556,
              "#d8576b"
             ],
             [
              0.6666666666666666,
              "#ed7953"
             ],
             [
              0.7777777777777778,
              "#fb9f3a"
             ],
             [
              0.8888888888888888,
              "#fdca26"
             ],
             [
              1,
              "#f0f921"
             ]
            ],
            "type": "surface"
           }
          ],
          "table": [
           {
            "cells": {
             "fill": {
              "color": "#EBF0F8"
             },
             "line": {
              "color": "white"
             }
            },
            "header": {
             "fill": {
              "color": "#C8D4E3"
             },
             "line": {
              "color": "white"
             }
            },
            "type": "table"
           }
          ]
         },
         "layout": {
          "annotationdefaults": {
           "arrowcolor": "#2a3f5f",
           "arrowhead": 0,
           "arrowwidth": 1
          },
          "autotypenumbers": "strict",
          "coloraxis": {
           "colorbar": {
            "outlinewidth": 0,
            "ticks": ""
           }
          },
          "colorscale": {
           "diverging": [
            [
             0,
             "#8e0152"
            ],
            [
             0.1,
             "#c51b7d"
            ],
            [
             0.2,
             "#de77ae"
            ],
            [
             0.3,
             "#f1b6da"
            ],
            [
             0.4,
             "#fde0ef"
            ],
            [
             0.5,
             "#f7f7f7"
            ],
            [
             0.6,
             "#e6f5d0"
            ],
            [
             0.7,
             "#b8e186"
            ],
            [
             0.8,
             "#7fbc41"
            ],
            [
             0.9,
             "#4d9221"
            ],
            [
             1,
             "#276419"
            ]
           ],
           "sequential": [
            [
             0,
             "#0d0887"
            ],
            [
             0.1111111111111111,
             "#46039f"
            ],
            [
             0.2222222222222222,
             "#7201a8"
            ],
            [
             0.3333333333333333,
             "#9c179e"
            ],
            [
             0.4444444444444444,
             "#bd3786"
            ],
            [
             0.5555555555555556,
             "#d8576b"
            ],
            [
             0.6666666666666666,
             "#ed7953"
            ],
            [
             0.7777777777777778,
             "#fb9f3a"
            ],
            [
             0.8888888888888888,
             "#fdca26"
            ],
            [
             1,
             "#f0f921"
            ]
           ],
           "sequentialminus": [
            [
             0,
             "#0d0887"
            ],
            [
             0.1111111111111111,
             "#46039f"
            ],
            [
             0.2222222222222222,
             "#7201a8"
            ],
            [
             0.3333333333333333,
             "#9c179e"
            ],
            [
             0.4444444444444444,
             "#bd3786"
            ],
            [
             0.5555555555555556,
             "#d8576b"
            ],
            [
             0.6666666666666666,
             "#ed7953"
            ],
            [
             0.7777777777777778,
             "#fb9f3a"
            ],
            [
             0.8888888888888888,
             "#fdca26"
            ],
            [
             1,
             "#f0f921"
            ]
           ]
          },
          "colorway": [
           "#636efa",
           "#EF553B",
           "#00cc96",
           "#ab63fa",
           "#FFA15A",
           "#19d3f3",
           "#FF6692",
           "#B6E880",
           "#FF97FF",
           "#FECB52"
          ],
          "font": {
           "color": "#2a3f5f"
          },
          "geo": {
           "bgcolor": "white",
           "lakecolor": "white",
           "landcolor": "#E5ECF6",
           "showlakes": true,
           "showland": true,
           "subunitcolor": "white"
          },
          "hoverlabel": {
           "align": "left"
          },
          "hovermode": "closest",
          "mapbox": {
           "style": "light"
          },
          "paper_bgcolor": "white",
          "plot_bgcolor": "#E5ECF6",
          "polar": {
           "angularaxis": {
            "gridcolor": "white",
            "linecolor": "white",
            "ticks": ""
           },
           "bgcolor": "#E5ECF6",
           "radialaxis": {
            "gridcolor": "white",
            "linecolor": "white",
            "ticks": ""
           }
          },
          "scene": {
           "xaxis": {
            "backgroundcolor": "#E5ECF6",
            "gridcolor": "white",
            "gridwidth": 2,
            "linecolor": "white",
            "showbackground": true,
            "ticks": "",
            "zerolinecolor": "white"
           },
           "yaxis": {
            "backgroundcolor": "#E5ECF6",
            "gridcolor": "white",
            "gridwidth": 2,
            "linecolor": "white",
            "showbackground": true,
            "ticks": "",
            "zerolinecolor": "white"
           },
           "zaxis": {
            "backgroundcolor": "#E5ECF6",
            "gridcolor": "white",
            "gridwidth": 2,
            "linecolor": "white",
            "showbackground": true,
            "ticks": "",
            "zerolinecolor": "white"
           }
          },
          "shapedefaults": {
           "line": {
            "color": "#2a3f5f"
           }
          },
          "ternary": {
           "aaxis": {
            "gridcolor": "white",
            "linecolor": "white",
            "ticks": ""
           },
           "baxis": {
            "gridcolor": "white",
            "linecolor": "white",
            "ticks": ""
           },
           "bgcolor": "#E5ECF6",
           "caxis": {
            "gridcolor": "white",
            "linecolor": "white",
            "ticks": ""
           }
          },
          "title": {
           "x": 0.05
          },
          "xaxis": {
           "automargin": true,
           "gridcolor": "white",
           "linecolor": "white",
           "ticks": "",
           "title": {
            "standoff": 15
           },
           "zerolinecolor": "white",
           "zerolinewidth": 2
          },
          "yaxis": {
           "automargin": true,
           "gridcolor": "white",
           "linecolor": "white",
           "ticks": "",
           "title": {
            "standoff": 15
           },
           "zerolinecolor": "white",
           "zerolinewidth": 2
          }
         }
        },
        "title": {
         "text": "Airports of the US"
        }
       }
      },
      "text/html": [
       "<div>                            <div id=\"3fd7fbf5-28cb-4ab8-b37b-42498aab93e6\" class=\"plotly-graph-div\" style=\"height:525px; width:100%;\"></div>            <script type=\"text/javascript\">                require([\"plotly\"], function(Plotly) {                    window.PLOTLYENV=window.PLOTLYENV || {};                                    if (document.getElementById(\"3fd7fbf5-28cb-4ab8-b37b-42498aab93e6\")) {                    Plotly.newPlot(                        \"3fd7fbf5-28cb-4ab8-b37b-42498aab93e6\",                        [{\"lat\":[36.08,40.696,42.364,40.779,33.436,28.432,42.217,32.894,29.991,33.641,40.639,41.785,32.116,35.219,36.127,30.485,47.447,41.978,25.792,32.733,41.411,45.589,38.18,33.942,35.392,37.619,39.868,19.739,39.774,39.048,33.827,35.812,35.875,40.497,27.973,44.886,35.05,33.676,41.939,39.991,38.696,36.092,29.645,37.721,29.983,39.298,40.784,37.505,42.95,38.747,39.729,30.194,39.498,42.941,41.302,31.807,29.533,32.847,36.896,26.536,38.942,26.682,38.852,34.2,34.899,41.728,21.319,39.176,41.534,20.901,26.074,33.563,61.169,42.881,32.127,37.363,32.899,35.042,33.818,21.979,36.198,43.565,34.056,18.44],\"lon\":[-115.152,-74.172,-71.006,-73.876,-112.009,-81.325,-83.344,-97.03,-90.251,-84.427,-73.777,-87.752,-110.941,-80.936,-86.682,-81.688,-122.306,-87.906,-80.286,-117.187,-81.849,-122.595,-85.739,-118.408,-97.602,-122.375,-75.249,-156.046,-104.88,-84.669,-116.505,-83.992,-78.782,-80.236,-82.535,-93.218,-89.979,-117.867,-72.683,-82.878,-121.59,-79.943,-95.279,-122.221,-95.34,-94.714,-111.967,-77.32,-87.897,-90.364,-86.282,-97.67,-119.768,-78.736,-95.893,-106.377,-98.469,-96.853,-76.201,-81.755,-77.458,-80.094,-77.037,-118.358,-82.214,-71.426,-157.922,-76.671,-93.657,-156.434,-80.152,-86.756,-149.985,-85.524,-81.202,-121.941,-80.039,-106.606,-118.151,-159.346,-95.89,-116.225,-117.601,-66.002],\"text\":[\"McCarran International\",\"Newark Liberty International\",\"Logan International\",\"LaGuardia\",\"Phoenix Sky Harbor International\",\"Orlando International\",\"Detroit Metro Wayne County\",\"Dallas Fort Worth Regional\",\"Louis Armstrong New Orleans International\",\"Atlanta Municipal\",\"John F. Kennedy International\",\"Chicago Midway International\",\"Tucson International\",\"Douglas Municipal\",\"Nashville International\",\"Jacksonville International\",\"Seattle International\",\"Chicago O'Hare International\",\"Miami International\",\"San Diego International Lindbergh Fl\",\"Cleveland-Hopkins International\",\"Portland International\",\"Standiford Field\",\"Los Angeles International\",\"Will Rogers World\",\"San Francisco International\",\"Philadelphia International\",\"Keahole\",\"Stapleton International\",\"Cincinnati/Northern Kentucky International\",\"Palm Springs International\",\"McGhee Tyson\",\"Raleigh-Durham International\",\"Pittsburgh International\",\"Tampa International\",\"Minneapolis-St Paul International\",\"Memphis International\",\"Orange County\",\"Bradley International\",\"Port Columbus International\",\"Sacramento International\",\"Piedmont Triad International\",\"William P Hobby\",\"Metropolitan Oakland International\",\"Houston Intercontinental\",\"Kansas City International\",\"Salt Lake City International\",\"Richmond International\",\"General Mitchell Field\",\"Lambert-St. Louis International\",\"Indianapolis Muni/Weir Cook\",\"Austin - Bergstrom International\",\"Reno/Tahoe International\",\"Greater Buffalo International\",\"Eppley Airfield\",\"El Paso International\",\"San Antonio International\",\"Dallas Love Field\",\"Norfolk International\",\"Southwest Florida International\",\"Washington Dulles International\",\"Palm Beach International\",\"Ronald Reagan Washington National\",\"Hollywood-Burbank Midpoint\",\"Greenville-Spartanburg\",\"Theodore Francis Green State\",\"Honolulu International\",\"Friendship International\",\"Des Moines Municipal\",\"Kahului Airport\",\"Fort Lauderdale-Hollywood International\",\"Birmingham Airport\",\"Anchorage International\",\"Kent County\",\"Savannah/Hilton Head International\",\"San Jose International\",\"Charleston International\",\"Albuquerque International Sunport\",\"Long Beach Daugherty Field\",\"Lihue Airport\",\"Tulsa International\",\"Boise Air Terminal\",\"Ontario International\",\"Puerto Rico International\"],\"type\":\"scattergeo\"}],                        {\"template\":{\"data\":{\"bar\":[{\"error_x\":{\"color\":\"#2a3f5f\"},\"error_y\":{\"color\":\"#2a3f5f\"},\"marker\":{\"line\":{\"color\":\"#E5ECF6\",\"width\":0.5},\"pattern\":{\"fillmode\":\"overlay\",\"size\":10,\"solidity\":0.2}},\"type\":\"bar\"}],\"barpolar\":[{\"marker\":{\"line\":{\"color\":\"#E5ECF6\",\"width\":0.5},\"pattern\":{\"fillmode\":\"overlay\",\"size\":10,\"solidity\":0.2}},\"type\":\"barpolar\"}],\"carpet\":[{\"aaxis\":{\"endlinecolor\":\"#2a3f5f\",\"gridcolor\":\"white\",\"linecolor\":\"white\",\"minorgridcolor\":\"white\",\"startlinecolor\":\"#2a3f5f\"},\"baxis\":{\"endlinecolor\":\"#2a3f5f\",\"gridcolor\":\"white\",\"linecolor\":\"white\",\"minorgridcolor\":\"white\",\"startlinecolor\":\"#2a3f5f\"},\"type\":\"carpet\"}],\"choropleth\":[{\"colorbar\":{\"outlinewidth\":0,\"ticks\":\"\"},\"type\":\"choropleth\"}],\"contour\":[{\"colorbar\":{\"outlinewidth\":0,\"ticks\":\"\"},\"colorscale\":[[0.0,\"#0d0887\"],[0.1111111111111111,\"#46039f\"],[0.2222222222222222,\"#7201a8\"],[0.3333333333333333,\"#9c179e\"],[0.4444444444444444,\"#bd3786\"],[0.5555555555555556,\"#d8576b\"],[0.6666666666666666,\"#ed7953\"],[0.7777777777777778,\"#fb9f3a\"],[0.8888888888888888,\"#fdca26\"],[1.0,\"#f0f921\"]],\"type\":\"contour\"}],\"contourcarpet\":[{\"colorbar\":{\"outlinewidth\":0,\"ticks\":\"\"},\"type\":\"contourcarpet\"}],\"heatmap\":[{\"colorbar\":{\"outlinewidth\":0,\"ticks\":\"\"},\"colorscale\":[[0.0,\"#0d0887\"],[0.1111111111111111,\"#46039f\"],[0.2222222222222222,\"#7201a8\"],[0.3333333333333333,\"#9c179e\"],[0.4444444444444444,\"#bd3786\"],[0.5555555555555556,\"#d8576b\"],[0.6666666666666666,\"#ed7953\"],[0.7777777777777778,\"#fb9f3a\"],[0.8888888888888888,\"#fdca26\"],[1.0,\"#f0f921\"]],\"type\":\"heatmap\"}],\"heatmapgl\":[{\"colorbar\":{\"outlinewidth\":0,\"ticks\":\"\"},\"colorscale\":[[0.0,\"#0d0887\"],[0.1111111111111111,\"#46039f\"],[0.2222222222222222,\"#7201a8\"],[0.3333333333333333,\"#9c179e\"],[0.4444444444444444,\"#bd3786\"],[0.5555555555555556,\"#d8576b\"],[0.6666666666666666,\"#ed7953\"],[0.7777777777777778,\"#fb9f3a\"],[0.8888888888888888,\"#fdca26\"],[1.0,\"#f0f921\"]],\"type\":\"heatmapgl\"}],\"histogram\":[{\"marker\":{\"pattern\":{\"fillmode\":\"overlay\",\"size\":10,\"solidity\":0.2}},\"type\":\"histogram\"}],\"histogram2d\":[{\"colorbar\":{\"outlinewidth\":0,\"ticks\":\"\"},\"colorscale\":[[0.0,\"#0d0887\"],[0.1111111111111111,\"#46039f\"],[0.2222222222222222,\"#7201a8\"],[0.3333333333333333,\"#9c179e\"],[0.4444444444444444,\"#bd3786\"],[0.5555555555555556,\"#d8576b\"],[0.6666666666666666,\"#ed7953\"],[0.7777777777777778,\"#fb9f3a\"],[0.8888888888888888,\"#fdca26\"],[1.0,\"#f0f921\"]],\"type\":\"histogram2d\"}],\"histogram2dcontour\":[{\"colorbar\":{\"outlinewidth\":0,\"ticks\":\"\"},\"colorscale\":[[0.0,\"#0d0887\"],[0.1111111111111111,\"#46039f\"],[0.2222222222222222,\"#7201a8\"],[0.3333333333333333,\"#9c179e\"],[0.4444444444444444,\"#bd3786\"],[0.5555555555555556,\"#d8576b\"],[0.6666666666666666,\"#ed7953\"],[0.7777777777777778,\"#fb9f3a\"],[0.8888888888888888,\"#fdca26\"],[1.0,\"#f0f921\"]],\"type\":\"histogram2dcontour\"}],\"mesh3d\":[{\"colorbar\":{\"outlinewidth\":0,\"ticks\":\"\"},\"type\":\"mesh3d\"}],\"parcoords\":[{\"line\":{\"colorbar\":{\"outlinewidth\":0,\"ticks\":\"\"}},\"type\":\"parcoords\"}],\"pie\":[{\"automargin\":true,\"type\":\"pie\"}],\"scatter\":[{\"marker\":{\"colorbar\":{\"outlinewidth\":0,\"ticks\":\"\"}},\"type\":\"scatter\"}],\"scatter3d\":[{\"line\":{\"colorbar\":{\"outlinewidth\":0,\"ticks\":\"\"}},\"marker\":{\"colorbar\":{\"outlinewidth\":0,\"ticks\":\"\"}},\"type\":\"scatter3d\"}],\"scattercarpet\":[{\"marker\":{\"colorbar\":{\"outlinewidth\":0,\"ticks\":\"\"}},\"type\":\"scattercarpet\"}],\"scattergeo\":[{\"marker\":{\"colorbar\":{\"outlinewidth\":0,\"ticks\":\"\"}},\"type\":\"scattergeo\"}],\"scattergl\":[{\"marker\":{\"colorbar\":{\"outlinewidth\":0,\"ticks\":\"\"}},\"type\":\"scattergl\"}],\"scattermapbox\":[{\"marker\":{\"colorbar\":{\"outlinewidth\":0,\"ticks\":\"\"}},\"type\":\"scattermapbox\"}],\"scatterpolar\":[{\"marker\":{\"colorbar\":{\"outlinewidth\":0,\"ticks\":\"\"}},\"type\":\"scatterpolar\"}],\"scatterpolargl\":[{\"marker\":{\"colorbar\":{\"outlinewidth\":0,\"ticks\":\"\"}},\"type\":\"scatterpolargl\"}],\"scatterternary\":[{\"marker\":{\"colorbar\":{\"outlinewidth\":0,\"ticks\":\"\"}},\"type\":\"scatterternary\"}],\"surface\":[{\"colorbar\":{\"outlinewidth\":0,\"ticks\":\"\"},\"colorscale\":[[0.0,\"#0d0887\"],[0.1111111111111111,\"#46039f\"],[0.2222222222222222,\"#7201a8\"],[0.3333333333333333,\"#9c179e\"],[0.4444444444444444,\"#bd3786\"],[0.5555555555555556,\"#d8576b\"],[0.6666666666666666,\"#ed7953\"],[0.7777777777777778,\"#fb9f3a\"],[0.8888888888888888,\"#fdca26\"],[1.0,\"#f0f921\"]],\"type\":\"surface\"}],\"table\":[{\"cells\":{\"fill\":{\"color\":\"#EBF0F8\"},\"line\":{\"color\":\"white\"}},\"header\":{\"fill\":{\"color\":\"#C8D4E3\"},\"line\":{\"color\":\"white\"}},\"type\":\"table\"}]},\"layout\":{\"annotationdefaults\":{\"arrowcolor\":\"#2a3f5f\",\"arrowhead\":0,\"arrowwidth\":1},\"autotypenumbers\":\"strict\",\"coloraxis\":{\"colorbar\":{\"outlinewidth\":0,\"ticks\":\"\"}},\"colorscale\":{\"diverging\":[[0,\"#8e0152\"],[0.1,\"#c51b7d\"],[0.2,\"#de77ae\"],[0.3,\"#f1b6da\"],[0.4,\"#fde0ef\"],[0.5,\"#f7f7f7\"],[0.6,\"#e6f5d0\"],[0.7,\"#b8e186\"],[0.8,\"#7fbc41\"],[0.9,\"#4d9221\"],[1,\"#276419\"]],\"sequential\":[[0.0,\"#0d0887\"],[0.1111111111111111,\"#46039f\"],[0.2222222222222222,\"#7201a8\"],[0.3333333333333333,\"#9c179e\"],[0.4444444444444444,\"#bd3786\"],[0.5555555555555556,\"#d8576b\"],[0.6666666666666666,\"#ed7953\"],[0.7777777777777778,\"#fb9f3a\"],[0.8888888888888888,\"#fdca26\"],[1.0,\"#f0f921\"]],\"sequentialminus\":[[0.0,\"#0d0887\"],[0.1111111111111111,\"#46039f\"],[0.2222222222222222,\"#7201a8\"],[0.3333333333333333,\"#9c179e\"],[0.4444444444444444,\"#bd3786\"],[0.5555555555555556,\"#d8576b\"],[0.6666666666666666,\"#ed7953\"],[0.7777777777777778,\"#fb9f3a\"],[0.8888888888888888,\"#fdca26\"],[1.0,\"#f0f921\"]]},\"colorway\":[\"#636efa\",\"#EF553B\",\"#00cc96\",\"#ab63fa\",\"#FFA15A\",\"#19d3f3\",\"#FF6692\",\"#B6E880\",\"#FF97FF\",\"#FECB52\"],\"font\":{\"color\":\"#2a3f5f\"},\"geo\":{\"bgcolor\":\"white\",\"lakecolor\":\"white\",\"landcolor\":\"#E5ECF6\",\"showlakes\":true,\"showland\":true,\"subunitcolor\":\"white\"},\"hoverlabel\":{\"align\":\"left\"},\"hovermode\":\"closest\",\"mapbox\":{\"style\":\"light\"},\"paper_bgcolor\":\"white\",\"plot_bgcolor\":\"#E5ECF6\",\"polar\":{\"angularaxis\":{\"gridcolor\":\"white\",\"linecolor\":\"white\",\"ticks\":\"\"},\"bgcolor\":\"#E5ECF6\",\"radialaxis\":{\"gridcolor\":\"white\",\"linecolor\":\"white\",\"ticks\":\"\"}},\"scene\":{\"xaxis\":{\"backgroundcolor\":\"#E5ECF6\",\"gridcolor\":\"white\",\"gridwidth\":2,\"linecolor\":\"white\",\"showbackground\":true,\"ticks\":\"\",\"zerolinecolor\":\"white\"},\"yaxis\":{\"backgroundcolor\":\"#E5ECF6\",\"gridcolor\":\"white\",\"gridwidth\":2,\"linecolor\":\"white\",\"showbackground\":true,\"ticks\":\"\",\"zerolinecolor\":\"white\"},\"zaxis\":{\"backgroundcolor\":\"#E5ECF6\",\"gridcolor\":\"white\",\"gridwidth\":2,\"linecolor\":\"white\",\"showbackground\":true,\"ticks\":\"\",\"zerolinecolor\":\"white\"}},\"shapedefaults\":{\"line\":{\"color\":\"#2a3f5f\"}},\"ternary\":{\"aaxis\":{\"gridcolor\":\"white\",\"linecolor\":\"white\",\"ticks\":\"\"},\"baxis\":{\"gridcolor\":\"white\",\"linecolor\":\"white\",\"ticks\":\"\"},\"bgcolor\":\"#E5ECF6\",\"caxis\":{\"gridcolor\":\"white\",\"linecolor\":\"white\",\"ticks\":\"\"}},\"title\":{\"x\":0.05},\"xaxis\":{\"automargin\":true,\"gridcolor\":\"white\",\"linecolor\":\"white\",\"ticks\":\"\",\"title\":{\"standoff\":15},\"zerolinecolor\":\"white\",\"zerolinewidth\":2},\"yaxis\":{\"automargin\":true,\"gridcolor\":\"white\",\"linecolor\":\"white\",\"ticks\":\"\",\"title\":{\"standoff\":15},\"zerolinecolor\":\"white\",\"zerolinewidth\":2}}},\"geo\":{\"scope\":\"usa\"},\"title\":{\"text\":\"Airports of the US\"}},                        {\"responsive\": true}                    ).then(function(){\n",
       "                            \n",
       "var gd = document.getElementById('3fd7fbf5-28cb-4ab8-b37b-42498aab93e6');\n",
       "var x = new MutationObserver(function (mutations, observer) {{\n",
       "        var display = window.getComputedStyle(gd).display;\n",
       "        if (!display || display === 'none') {{\n",
       "            console.log([gd, 'removed!']);\n",
       "            Plotly.purge(gd);\n",
       "            observer.disconnect();\n",
       "        }}\n",
       "}});\n",
       "\n",
       "// Listen for the removal of the full notebook cells\n",
       "var notebookContainer = gd.closest('#notebook-container');\n",
       "if (notebookContainer) {{\n",
       "    x.observe(notebookContainer, {childList: true});\n",
       "}}\n",
       "\n",
       "// Listen for the clearing of the current output cell\n",
       "var outputEl = gd.closest('.output');\n",
       "if (outputEl) {{\n",
       "    x.observe(outputEl, {childList: true});\n",
       "}}\n",
       "\n",
       "                        })                };                });            </script>        </div>"
      ]
     },
     "metadata": {},
     "output_type": "display_data"
    }
   ],
   "source": [
    "fig = go.Figure(data = go.Scattergeo(lon = latlon['LONGITUDE'], \n",
    "                                     lat = latlon['LATITUDE'], \n",
    "                                     text = latlon['DEPARTING_AIRPORT']))\n",
    "fig.update_layout(title = 'Airports of the US', geo_scope = 'usa')\n",
    "fig.show()"
   ]
  },
  {
   "cell_type": "code",
   "execution_count": 124,
   "id": "2f66a8a6",
   "metadata": {},
   "outputs": [
    {
     "data": {
      "text/plain": [
       "0.029742800523518912"
      ]
     },
     "execution_count": 124,
     "metadata": {},
     "output_type": "execute_result"
    }
   ],
   "source": [
    "df['CARRIER_NAME'].unique()\n",
    "df.loc[df['CARRIER_NAME'] == 'Spirit Air Lines', 'CARRIER_NUM'] = 1 \n",
    "df.loc[df['CARRIER_NAME'] == 'United Air Lines Inc.', 'CARRIER_NUM'] = 2\n",
    "df.loc[df['CARRIER_NAME'] == 'American Airlines Inc.', 'CARRIER_NUM'] = 3\n",
    "df.loc[df['CARRIER_NAME'] == 'Delta Air Lines Inc.', 'CARRIER_NUM'] = 4\n",
    "df.loc[df['CARRIER_NAME'] == 'American Eagle Airlines Inc.', 'CARRIER_NUM'] = 5\n",
    "df.loc[df['CARRIER_NAME'] == 'Midwest Airline, Inc.', 'CARRIER_NUM'] = 6\n",
    "df.loc[df['CARRIER_NAME'] == 'SkyWest Airlines Inc.', 'CARRIER_NUM'] = 7 \n",
    "df.loc[df['CARRIER_NAME'] == 'Frontier Airlines Inc.', 'CARRIER_NUM'] = 8\n",
    "df.loc[df['CARRIER_NAME'] == 'Southwest Airlines Co.', 'CARRIER_NUM'] = 9 \n",
    "df.loc[df['CARRIER_NAME'] == 'Alaska Airlines Inc.', 'CARRIER_NUM'] = 10\n",
    "df.loc[df['CARRIER_NAME'] == 'Comair Inc.', 'CARRIER_NUM'] = 11\n",
    "df.loc[df['CARRIER_NAME'] == 'JetBlue Airways', 'CARRIER_NUM'] = 12\n",
    "df.loc[df['CARRIER_NAME'] == 'Mesa Airlines Inc.', 'CARRIER_NUM'] = 13\n",
    "df.loc[df['CARRIER_NAME'] == 'Endeavor Air Inc.', 'CARRIER_NUM'] = 14\n",
    "df.loc[df['CARRIER_NAME'] == 'Atlantic Southeast Airlines', 'CARRIER_NUM'] = 15\n",
    "df.loc[df['CARRIER_NAME'] == 'Allegiant Air', 'CARRIER_NUM'] = 16\n",
    "df.loc[df['CARRIER_NAME'] == 'Hawaiian Airlines Inc.', 'CARRIER_NUM'] = 17\n",
    "df['CARRIER_NUM'].corr(df['DEP_DEL15'])"
   ]
  },
  {
   "cell_type": "code",
   "execution_count": null,
   "id": "125576f2",
   "metadata": {},
   "outputs": [],
   "source": []
  }
 ],
 "metadata": {
  "kernelspec": {
   "display_name": "Python 3 (ipykernel)",
   "language": "python",
   "name": "python3"
  },
  "language_info": {
   "codemirror_mode": {
    "name": "ipython",
    "version": 3
   },
   "file_extension": ".py",
   "mimetype": "text/x-python",
   "name": "python",
   "nbconvert_exporter": "python",
   "pygments_lexer": "ipython3",
   "version": "3.9.12"
  }
 },
 "nbformat": 4,
 "nbformat_minor": 5
}
